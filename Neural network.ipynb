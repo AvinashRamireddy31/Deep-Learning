{
 "cells": [
  {
   "cell_type": "code",
   "execution_count": 62,
   "metadata": {},
   "outputs": [
    {
     "data": {
      "text/html": [
       "<style>.container { width:99% !important; }</style>"
      ],
      "text/plain": [
       "<IPython.core.display.HTML object>"
      ]
     },
     "metadata": {},
     "output_type": "display_data"
    }
   ],
   "source": [
    "from IPython.core.display import display, HTML\n",
    "display(HTML(\"<style>.container { width:99% !important; }</style>\"))"
   ]
  },
  {
   "cell_type": "code",
   "execution_count": 63,
   "metadata": {},
   "outputs": [],
   "source": [
    "import keras\n",
    "from keras.models import Sequential\n",
    "from keras.layers import Dense"
   ]
  },
  {
   "cell_type": "code",
   "execution_count": 64,
   "metadata": {},
   "outputs": [],
   "source": [
    "X = np.array([\n",
    "    [0,0],\n",
    "    [1,0],\n",
    "    [0,1],\n",
    "    [1,1]\n",
    "])\n",
    "\n",
    "y = np.array([\n",
    "    0,\n",
    "    1,\n",
    "    1,\n",
    "    0\n",
    "])"
   ]
  },
  {
   "cell_type": "code",
   "execution_count": 70,
   "metadata": {},
   "outputs": [],
   "source": [
    "model = Sequential()\n",
    "model.add(Dense(2, input_dim = X.shape[1], activation='relu'))\n",
    "model.add(Dense(1))"
   ]
  },
  {
   "cell_type": "code",
   "execution_count": 71,
   "metadata": {},
   "outputs": [
    {
     "data": {
      "text/plain": [
       "[array([[-0.94501376, -0.6721289 ],\n",
       "        [ 0.19388926,  0.9241494 ]], dtype=float32),\n",
       " array([0., 0.], dtype=float32),\n",
       " array([[-0.77057385],\n",
       "        [-0.38960576]], dtype=float32),\n",
       " array([0.], dtype=float32)]"
      ]
     },
     "execution_count": 71,
     "metadata": {},
     "output_type": "execute_result"
    }
   ],
   "source": [
    "model.get_weights()"
   ]
  },
  {
   "cell_type": "code",
   "execution_count": null,
   "metadata": {},
   "outputs": [],
   "source": [
    "model.compile(loss='mean_squared_error', optimizer='adam')\n",
    "model.fit(X,y,verbose=2, epochs = 1)"
   ]
  },
  {
   "cell_type": "code",
   "execution_count": null,
   "metadata": {},
   "outputs": [],
   "source": []
  },
  {
   "cell_type": "code",
   "execution_count": null,
   "metadata": {},
   "outputs": [],
   "source": []
  },
  {
   "cell_type": "code",
   "execution_count": 1,
   "metadata": {},
   "outputs": [],
   "source": [
    "import numpy as np"
   ]
  },
  {
   "cell_type": "code",
   "execution_count": 2,
   "metadata": {},
   "outputs": [],
   "source": [
    "def sigmoid(x):\n",
    "    return 1/(1 + np.exp(-x))"
   ]
  },
  {
   "cell_type": "code",
   "execution_count": 3,
   "metadata": {},
   "outputs": [],
   "source": [
    "def sigmoid_derivate(x):\n",
    "    return x*(1-x)"
   ]
  },
  {
   "cell_type": "code",
   "execution_count": 4,
   "metadata": {},
   "outputs": [],
   "source": [
    "training_inputs = np.array([[0,0,1],\n",
    "                            [1,1,1],\n",
    "                            [1,0,1],\n",
    "                            [0,1,1]])\n",
    "training_outputs = np.array([[0,1,1,0]]).T"
   ]
  },
  {
   "cell_type": "code",
   "execution_count": 5,
   "metadata": {},
   "outputs": [],
   "source": [
    "np.random.seed(1)"
   ]
  },
  {
   "cell_type": "code",
   "execution_count": 6,
   "metadata": {},
   "outputs": [],
   "source": [
    "synaptic_weights = 2* np.random.random((3,1)) - 1"
   ]
  },
  {
   "cell_type": "code",
   "execution_count": 7,
   "metadata": {},
   "outputs": [
    {
     "name": "stdout",
     "output_type": "stream",
     "text": [
      "random starting synaptic weights\n",
      "[[-0.16595599]\n",
      " [ 0.44064899]\n",
      " [-0.99977125]]\n"
     ]
    }
   ],
   "source": [
    "print(\"random starting synaptic weights\")\n",
    "print(synaptic_weights)"
   ]
  },
  {
   "cell_type": "code",
   "execution_count": 8,
   "metadata": {},
   "outputs": [
    {
     "name": "stdout",
     "output_type": "stream",
     "text": [
      "synaptic weights after training\n",
      "[[10.38040701]\n",
      " [-0.20641179]\n",
      " [-4.98452047]]\n",
      "Original training outputs\n",
      "[[0]\n",
      " [1]\n",
      " [1]\n",
      " [0]]\n",
      "outputs after training\n",
      "[[0.00679672]\n",
      " [0.99445583]\n",
      " [0.99548516]\n",
      " [0.00553614]]\n"
     ]
    }
   ],
   "source": [
    "for iteration in range(20000):\n",
    "    input_layer = training_inputs\n",
    "    outputs = sigmoid(np.dot(input_layer, synaptic_weights))\n",
    "    error = training_outputs - outputs\n",
    "    adjustments = error * sigmoid_derivate(outputs)\n",
    "    synaptic_weights += np.dot(input_layer.T, adjustments)\n",
    "\n",
    "    \n",
    "print(\"synaptic weights after training\")\n",
    "print(synaptic_weights)\n",
    "    \n",
    "print(\"Original training outputs\")\n",
    "print(training_outputs)\n",
    "print(\"outputs after training\")\n",
    "print(outputs)"
   ]
  },
  {
   "cell_type": "code",
   "execution_count": null,
   "metadata": {},
   "outputs": [],
   "source": []
  },
  {
   "cell_type": "code",
   "execution_count": 9,
   "metadata": {},
   "outputs": [],
   "source": [
    "class MLP:\n",
    "    def __init__(self, num_inputs=2, num_hidden=[3,4], num_outputs = 2):\n",
    "        self.num_inputs = num_inputs\n",
    "        self.num_hidden = num_hidden\n",
    "        self.num_outputs = num_outputs\n",
    "        \n",
    "        layers = [self.num_inputs] + self.num_hidden + [self.num_outputs]\n",
    "         \n",
    "        weights = [] \n",
    "        for i in range(len(layers)-1):\n",
    "            w = np.random.rand(layers[i], layers[i+1])\n",
    "            weights.append(w)\n",
    "        self.weights = weights\n",
    "        \n",
    "        activations = []\n",
    "        for i in range(len(layers)):\n",
    "            a = np.zeros(layers[i])\n",
    "            activations.append(a)\n",
    "        self.activations = activations\n",
    "        \n",
    "        derivatives = [] \n",
    "        for i in range(len(layers)-1):\n",
    "            d = np.random.rand(layers[i], layers[i+1])\n",
    "            derivatives.append(w)\n",
    "        self.derivatives = derivatives\n",
    "            \n",
    "    def forward_propagate(self, inputs):\n",
    "        activations = inputs  \n",
    "        \n",
    "        self.activations[0] = inputs\n",
    "        \n",
    "        for i, w in enumerate(self.weights):\n",
    "            net_inputs = np.dot(activations, w) \n",
    "             \n",
    "            activations = self.sigmoid(net_inputs)\n",
    "            \n",
    "            self.activations[i+1] = activations\n",
    "            \n",
    "        return activations\n",
    "    \n",
    "    def back_propagate(self, error):\n",
    "        for i in reverse(range(len(self.derivatives))):\n",
    "            print(i)\n",
    "        \n",
    "    def sigmoid(self, x):\n",
    "        return 1/(1+ np.exp(-x))\n",
    "    \n",
    "    \n",
    "    "
   ]
  },
  {
   "cell_type": "code",
   "execution_count": 10,
   "metadata": {},
   "outputs": [
    {
     "name": "stdout",
     "output_type": "stream",
     "text": [
      "[0.81755214 0.87051793]\n"
     ]
    }
   ],
   "source": [
    "np.random.seed(1)\n",
    "\n",
    "mlp = MLP() \n",
    "inputs = np.random.rand(mlp.num_inputs)\n",
    "outputs = mlp.forward_propagate(inputs)\n",
    "print(outputs)\n"
   ]
  },
  {
   "cell_type": "code",
   "execution_count": null,
   "metadata": {},
   "outputs": [],
   "source": []
  },
  {
   "cell_type": "code",
   "execution_count": 11,
   "metadata": {},
   "outputs": [],
   "source": [
    "import numpy as np\n",
    "import pandas as pd"
   ]
  },
  {
   "cell_type": "code",
   "execution_count": 12,
   "metadata": {},
   "outputs": [
    {
     "data": {
      "text/html": [
       "<div>\n",
       "<style scoped>\n",
       "    .dataframe tbody tr th:only-of-type {\n",
       "        vertical-align: middle;\n",
       "    }\n",
       "\n",
       "    .dataframe tbody tr th {\n",
       "        vertical-align: top;\n",
       "    }\n",
       "\n",
       "    .dataframe thead th {\n",
       "        text-align: right;\n",
       "    }\n",
       "</style>\n",
       "<table border=\"1\" class=\"dataframe\">\n",
       "  <thead>\n",
       "    <tr style=\"text-align: right;\">\n",
       "      <th></th>\n",
       "      <th>battery_power</th>\n",
       "      <th>blue</th>\n",
       "      <th>clock_speed</th>\n",
       "      <th>dual_sim</th>\n",
       "      <th>fc</th>\n",
       "      <th>four_g</th>\n",
       "      <th>int_memory</th>\n",
       "      <th>m_dep</th>\n",
       "      <th>mobile_wt</th>\n",
       "      <th>n_cores</th>\n",
       "      <th>...</th>\n",
       "      <th>px_height</th>\n",
       "      <th>px_width</th>\n",
       "      <th>ram</th>\n",
       "      <th>sc_h</th>\n",
       "      <th>sc_w</th>\n",
       "      <th>talk_time</th>\n",
       "      <th>three_g</th>\n",
       "      <th>touch_screen</th>\n",
       "      <th>wifi</th>\n",
       "      <th>price_range</th>\n",
       "    </tr>\n",
       "  </thead>\n",
       "  <tbody>\n",
       "    <tr>\n",
       "      <th>0</th>\n",
       "      <td>842</td>\n",
       "      <td>0</td>\n",
       "      <td>2.2</td>\n",
       "      <td>0</td>\n",
       "      <td>1</td>\n",
       "      <td>0</td>\n",
       "      <td>7</td>\n",
       "      <td>0.6</td>\n",
       "      <td>188</td>\n",
       "      <td>2</td>\n",
       "      <td>...</td>\n",
       "      <td>20</td>\n",
       "      <td>756</td>\n",
       "      <td>2549</td>\n",
       "      <td>9</td>\n",
       "      <td>7</td>\n",
       "      <td>19</td>\n",
       "      <td>0</td>\n",
       "      <td>0</td>\n",
       "      <td>1</td>\n",
       "      <td>1</td>\n",
       "    </tr>\n",
       "    <tr>\n",
       "      <th>1</th>\n",
       "      <td>1021</td>\n",
       "      <td>1</td>\n",
       "      <td>0.5</td>\n",
       "      <td>1</td>\n",
       "      <td>0</td>\n",
       "      <td>1</td>\n",
       "      <td>53</td>\n",
       "      <td>0.7</td>\n",
       "      <td>136</td>\n",
       "      <td>3</td>\n",
       "      <td>...</td>\n",
       "      <td>905</td>\n",
       "      <td>1988</td>\n",
       "      <td>2631</td>\n",
       "      <td>17</td>\n",
       "      <td>3</td>\n",
       "      <td>7</td>\n",
       "      <td>1</td>\n",
       "      <td>1</td>\n",
       "      <td>0</td>\n",
       "      <td>2</td>\n",
       "    </tr>\n",
       "    <tr>\n",
       "      <th>2</th>\n",
       "      <td>563</td>\n",
       "      <td>1</td>\n",
       "      <td>0.5</td>\n",
       "      <td>1</td>\n",
       "      <td>2</td>\n",
       "      <td>1</td>\n",
       "      <td>41</td>\n",
       "      <td>0.9</td>\n",
       "      <td>145</td>\n",
       "      <td>5</td>\n",
       "      <td>...</td>\n",
       "      <td>1263</td>\n",
       "      <td>1716</td>\n",
       "      <td>2603</td>\n",
       "      <td>11</td>\n",
       "      <td>2</td>\n",
       "      <td>9</td>\n",
       "      <td>1</td>\n",
       "      <td>1</td>\n",
       "      <td>0</td>\n",
       "      <td>2</td>\n",
       "    </tr>\n",
       "    <tr>\n",
       "      <th>3</th>\n",
       "      <td>615</td>\n",
       "      <td>1</td>\n",
       "      <td>2.5</td>\n",
       "      <td>0</td>\n",
       "      <td>0</td>\n",
       "      <td>0</td>\n",
       "      <td>10</td>\n",
       "      <td>0.8</td>\n",
       "      <td>131</td>\n",
       "      <td>6</td>\n",
       "      <td>...</td>\n",
       "      <td>1216</td>\n",
       "      <td>1786</td>\n",
       "      <td>2769</td>\n",
       "      <td>16</td>\n",
       "      <td>8</td>\n",
       "      <td>11</td>\n",
       "      <td>1</td>\n",
       "      <td>0</td>\n",
       "      <td>0</td>\n",
       "      <td>2</td>\n",
       "    </tr>\n",
       "    <tr>\n",
       "      <th>4</th>\n",
       "      <td>1821</td>\n",
       "      <td>1</td>\n",
       "      <td>1.2</td>\n",
       "      <td>0</td>\n",
       "      <td>13</td>\n",
       "      <td>1</td>\n",
       "      <td>44</td>\n",
       "      <td>0.6</td>\n",
       "      <td>141</td>\n",
       "      <td>2</td>\n",
       "      <td>...</td>\n",
       "      <td>1208</td>\n",
       "      <td>1212</td>\n",
       "      <td>1411</td>\n",
       "      <td>8</td>\n",
       "      <td>2</td>\n",
       "      <td>15</td>\n",
       "      <td>1</td>\n",
       "      <td>1</td>\n",
       "      <td>0</td>\n",
       "      <td>1</td>\n",
       "    </tr>\n",
       "  </tbody>\n",
       "</table>\n",
       "<p>5 rows × 21 columns</p>\n",
       "</div>"
      ],
      "text/plain": [
       "   battery_power  blue  clock_speed  dual_sim  fc  four_g  int_memory  m_dep  \\\n",
       "0            842     0          2.2         0   1       0           7    0.6   \n",
       "1           1021     1          0.5         1   0       1          53    0.7   \n",
       "2            563     1          0.5         1   2       1          41    0.9   \n",
       "3            615     1          2.5         0   0       0          10    0.8   \n",
       "4           1821     1          1.2         0  13       1          44    0.6   \n",
       "\n",
       "   mobile_wt  n_cores  ...  px_height  px_width   ram  sc_h  sc_w  talk_time  \\\n",
       "0        188        2  ...         20       756  2549     9     7         19   \n",
       "1        136        3  ...        905      1988  2631    17     3          7   \n",
       "2        145        5  ...       1263      1716  2603    11     2          9   \n",
       "3        131        6  ...       1216      1786  2769    16     8         11   \n",
       "4        141        2  ...       1208      1212  1411     8     2         15   \n",
       "\n",
       "   three_g  touch_screen  wifi  price_range  \n",
       "0        0             0     1            1  \n",
       "1        1             1     0            2  \n",
       "2        1             1     0            2  \n",
       "3        1             0     0            2  \n",
       "4        1             1     0            1  \n",
       "\n",
       "[5 rows x 21 columns]"
      ]
     },
     "execution_count": 12,
     "metadata": {},
     "output_type": "execute_result"
    }
   ],
   "source": [
    "#dataset import\n",
    "dataset = pd.read_csv(\"data/train.csv\") #You need to change #directory accordingly\n",
    "dataset.head()"
   ]
  },
  {
   "cell_type": "code",
   "execution_count": 13,
   "metadata": {},
   "outputs": [],
   "source": [
    "#Changing pandas dataframe to numpy array\n",
    "X = dataset.iloc[:,:20].values\n",
    "y = dataset.iloc[:,20:21].values"
   ]
  },
  {
   "cell_type": "code",
   "execution_count": 16,
   "metadata": {},
   "outputs": [],
   "source": [
    "from sklearn.preprocessing import StandardScaler\n",
    "\n",
    "#Normalizing the data\n",
    "sc = StandardScaler()\n",
    "X = sc.fit_transform(X)"
   ]
  },
  {
   "cell_type": "code",
   "execution_count": 17,
   "metadata": {},
   "outputs": [
    {
     "data": {
      "text/plain": [
       "array([[-0.90259726, -0.9900495 ,  0.83077942, ..., -1.78686097,\n",
       "        -1.00601811,  0.98609664],\n",
       "       [-0.49513857,  1.0100505 , -1.2530642 , ...,  0.55964063,\n",
       "         0.99401789, -1.01409939],\n",
       "       [-1.5376865 ,  1.0100505 , -1.2530642 , ...,  0.55964063,\n",
       "         0.99401789, -1.01409939],\n",
       "       ...,\n",
       "       [ 1.53077336, -0.9900495 , -0.76274805, ...,  0.55964063,\n",
       "         0.99401789, -1.01409939],\n",
       "       [ 0.62252745, -0.9900495 , -0.76274805, ...,  0.55964063,\n",
       "         0.99401789,  0.98609664],\n",
       "       [-1.65833069,  1.0100505 ,  0.58562134, ...,  0.55964063,\n",
       "         0.99401789,  0.98609664]])"
      ]
     },
     "execution_count": 17,
     "metadata": {},
     "output_type": "execute_result"
    }
   ],
   "source": [
    "X"
   ]
  },
  {
   "cell_type": "code",
   "execution_count": 18,
   "metadata": {},
   "outputs": [],
   "source": [
    "#One hot encoding\n",
    "from sklearn.preprocessing import OneHotEncoder\n",
    "ohe = OneHotEncoder()\n",
    "y = ohe.fit_transform(y).toarray()"
   ]
  },
  {
   "cell_type": "code",
   "execution_count": 19,
   "metadata": {},
   "outputs": [],
   "source": [
    "# Train and test split\n",
    "from sklearn.model_selection import train_test_split\n",
    "X_train,X_test,y_train,y_test = train_test_split(X,y,test_size = 0.1)"
   ]
  },
  {
   "cell_type": "code",
   "execution_count": 47,
   "metadata": {},
   "outputs": [],
   "source": [
    "import keras\n",
    "from keras.models import Sequential\n",
    "from keras.layers import Dense"
   ]
  },
  {
   "cell_type": "code",
   "execution_count": 48,
   "metadata": {},
   "outputs": [],
   "source": [
    "model = Sequential()\n",
    "model.add(Dense(16, input_dim=20, activation ='relu'))\n",
    "model.add(Dense(12, activation='relu'))\n",
    "model.add(Dense(4, activation='softmax'))"
   ]
  },
  {
   "cell_type": "code",
   "execution_count": 49,
   "metadata": {},
   "outputs": [],
   "source": [
    "model.compile(loss='categorical_crossentropy', optimizer='adam',metrics=['accuracy'])"
   ]
  },
  {
   "cell_type": "code",
   "execution_count": 50,
   "metadata": {},
   "outputs": [
    {
     "name": "stdout",
     "output_type": "stream",
     "text": [
      "Epoch 1/100\n",
      "1800/1800 [==============================] - 0s 78us/step - loss: 1.4857 - accuracy: 0.2661\n",
      "Epoch 2/100\n",
      "1800/1800 [==============================] - 0s 22us/step - loss: 1.4021 - accuracy: 0.2967\n",
      "Epoch 3/100\n",
      "1800/1800 [==============================] - 0s 23us/step - loss: 1.3571 - accuracy: 0.3356\n",
      "Epoch 4/100\n",
      "1800/1800 [==============================] - 0s 29us/step - loss: 1.3138 - accuracy: 0.3750\n",
      "Epoch 5/100\n",
      "1800/1800 [==============================] - 0s 27us/step - loss: 1.2665 - accuracy: 0.4233\n",
      "Epoch 6/100\n",
      "1800/1800 [==============================] - 0s 24us/step - loss: 1.2116 - accuracy: 0.4772\n",
      "Epoch 7/100\n",
      "1800/1800 [==============================] - 0s 21us/step - loss: 1.1481 - accuracy: 0.5150\n",
      "Epoch 8/100\n",
      "1800/1800 [==============================] - 0s 25us/step - loss: 1.0712 - accuracy: 0.5556\n",
      "Epoch 9/100\n",
      "1800/1800 [==============================] - 0s 26us/step - loss: 0.9878 - accuracy: 0.6033\n",
      "Epoch 10/100\n",
      "1800/1800 [==============================] - 0s 22us/step - loss: 0.9038 - accuracy: 0.6461\n",
      "Epoch 11/100\n",
      "1800/1800 [==============================] - 0s 23us/step - loss: 0.8240 - accuracy: 0.6694\n",
      "Epoch 12/100\n",
      "1800/1800 [==============================] - 0s 26us/step - loss: 0.7503 - accuracy: 0.7011\n",
      "Epoch 13/100\n",
      "1800/1800 [==============================] - 0s 26us/step - loss: 0.6852 - accuracy: 0.7411\n",
      "Epoch 14/100\n",
      "1800/1800 [==============================] - 0s 21us/step - loss: 0.6282 - accuracy: 0.7728\n",
      "Epoch 15/100\n",
      "1800/1800 [==============================] - 0s 22us/step - loss: 0.5783 - accuracy: 0.8061\n",
      "Epoch 16/100\n",
      "1800/1800 [==============================] - 0s 28us/step - loss: 0.5331 - accuracy: 0.8300\n",
      "Epoch 17/100\n",
      "1800/1800 [==============================] - 0s 31us/step - loss: 0.4934 - accuracy: 0.8422\n",
      "Epoch 18/100\n",
      "1800/1800 [==============================] - 0s 29us/step - loss: 0.4594 - accuracy: 0.8622\n",
      "Epoch 19/100\n",
      "1800/1800 [==============================] - 0s 26us/step - loss: 0.4276 - accuracy: 0.8767\n",
      "Epoch 20/100\n",
      "1800/1800 [==============================] - 0s 25us/step - loss: 0.4004 - accuracy: 0.8839\n",
      "Epoch 21/100\n",
      "1800/1800 [==============================] - 0s 24us/step - loss: 0.3759 - accuracy: 0.8878\n",
      "Epoch 22/100\n",
      "1800/1800 [==============================] - 0s 21us/step - loss: 0.3541 - accuracy: 0.9000\n",
      "Epoch 23/100\n",
      "1800/1800 [==============================] - 0s 24us/step - loss: 0.3338 - accuracy: 0.9100\n",
      "Epoch 24/100\n",
      "1800/1800 [==============================] - 0s 29us/step - loss: 0.3169 - accuracy: 0.9089\n",
      "Epoch 25/100\n",
      "1800/1800 [==============================] - 0s 25us/step - loss: 0.3015 - accuracy: 0.9139\n",
      "Epoch 26/100\n",
      "1800/1800 [==============================] - 0s 26us/step - loss: 0.2869 - accuracy: 0.9122\n",
      "Epoch 27/100\n",
      "1800/1800 [==============================] - 0s 23us/step - loss: 0.2734 - accuracy: 0.9250\n",
      "Epoch 28/100\n",
      "1800/1800 [==============================] - 0s 24us/step - loss: 0.2617 - accuracy: 0.9239\n",
      "Epoch 29/100\n",
      "1800/1800 [==============================] - 0s 24us/step - loss: 0.2508 - accuracy: 0.9311\n",
      "Epoch 30/100\n",
      "1800/1800 [==============================] - 0s 21us/step - loss: 0.2403 - accuracy: 0.9333\n",
      "Epoch 31/100\n",
      "1800/1800 [==============================] - 0s 24us/step - loss: 0.2305 - accuracy: 0.9383\n",
      "Epoch 32/100\n",
      "1800/1800 [==============================] - 0s 24us/step - loss: 0.2225 - accuracy: 0.9406\n",
      "Epoch 33/100\n",
      "1800/1800 [==============================] - 0s 21us/step - loss: 0.2133 - accuracy: 0.9394\n",
      "Epoch 34/100\n",
      "1800/1800 [==============================] - 0s 24us/step - loss: 0.2063 - accuracy: 0.9428\n",
      "Epoch 35/100\n",
      "1800/1800 [==============================] - 0s 26us/step - loss: 0.1987 - accuracy: 0.9478\n",
      "Epoch 36/100\n",
      "1800/1800 [==============================] - 0s 28us/step - loss: 0.1938 - accuracy: 0.9478\n",
      "Epoch 37/100\n",
      "1800/1800 [==============================] - 0s 29us/step - loss: 0.1867 - accuracy: 0.9500\n",
      "Epoch 38/100\n",
      "1800/1800 [==============================] - 0s 32us/step - loss: 0.1805 - accuracy: 0.9533\n",
      "Epoch 39/100\n",
      "1800/1800 [==============================] - 0s 25us/step - loss: 0.1740 - accuracy: 0.9517\n",
      "Epoch 40/100\n",
      "1800/1800 [==============================] - 0s 23us/step - loss: 0.1691 - accuracy: 0.9556\n",
      "Epoch 41/100\n",
      "1800/1800 [==============================] - 0s 26us/step - loss: 0.1640 - accuracy: 0.9583\n",
      "Epoch 42/100\n",
      "1800/1800 [==============================] - 0s 25us/step - loss: 0.1610 - accuracy: 0.9567\n",
      "Epoch 43/100\n",
      "1800/1800 [==============================] - 0s 21us/step - loss: 0.1556 - accuracy: 0.9567\n",
      "Epoch 44/100\n",
      "1800/1800 [==============================] - 0s 25us/step - loss: 0.1514 - accuracy: 0.9600\n",
      "Epoch 45/100\n",
      "1800/1800 [==============================] - 0s 22us/step - loss: 0.1467 - accuracy: 0.9606\n",
      "Epoch 46/100\n",
      "1800/1800 [==============================] - 0s 29us/step - loss: 0.1433 - accuracy: 0.9656\n",
      "Epoch 47/100\n",
      "1800/1800 [==============================] - 0s 21us/step - loss: 0.1389 - accuracy: 0.9661\n",
      "Epoch 48/100\n",
      "1800/1800 [==============================] - 0s 26us/step - loss: 0.1356 - accuracy: 0.9661\n",
      "Epoch 49/100\n",
      "1800/1800 [==============================] - 0s 25us/step - loss: 0.1322 - accuracy: 0.9661\n",
      "Epoch 50/100\n",
      "1800/1800 [==============================] - 0s 22us/step - loss: 0.1292 - accuracy: 0.9672\n",
      "Epoch 51/100\n",
      "1800/1800 [==============================] - 0s 33us/step - loss: 0.1272 - accuracy: 0.9644\n",
      "Epoch 52/100\n",
      "1800/1800 [==============================] - 0s 31us/step - loss: 0.1231 - accuracy: 0.9667\n",
      "Epoch 53/100\n",
      "1800/1800 [==============================] - 0s 27us/step - loss: 0.1210 - accuracy: 0.9683\n",
      "Epoch 54/100\n",
      "1800/1800 [==============================] - 0s 23us/step - loss: 0.1179 - accuracy: 0.9694\n",
      "Epoch 55/100\n",
      "1800/1800 [==============================] - 0s 20us/step - loss: 0.1151 - accuracy: 0.9700\n",
      "Epoch 56/100\n",
      "1800/1800 [==============================] - 0s 24us/step - loss: 0.1137 - accuracy: 0.9717\n",
      "Epoch 57/100\n",
      "1800/1800 [==============================] - 0s 22us/step - loss: 0.1105 - accuracy: 0.9717\n",
      "Epoch 58/100\n",
      "1800/1800 [==============================] - 0s 22us/step - loss: 0.1074 - accuracy: 0.9750\n",
      "Epoch 59/100\n",
      "1800/1800 [==============================] - 0s 22us/step - loss: 0.1054 - accuracy: 0.9761\n",
      "Epoch 60/100\n",
      "1800/1800 [==============================] - 0s 22us/step - loss: 0.1030 - accuracy: 0.9756\n",
      "Epoch 61/100\n",
      "1800/1800 [==============================] - 0s 22us/step - loss: 0.1007 - accuracy: 0.9778\n",
      "Epoch 62/100\n",
      "1800/1800 [==============================] - 0s 22us/step - loss: 0.0980 - accuracy: 0.9778\n",
      "Epoch 63/100\n",
      "1800/1800 [==============================] - 0s 24us/step - loss: 0.0975 - accuracy: 0.9750\n",
      "Epoch 64/100\n",
      "1800/1800 [==============================] - 0s 22us/step - loss: 0.0947 - accuracy: 0.9761\n",
      "Epoch 65/100\n",
      "1800/1800 [==============================] - 0s 24us/step - loss: 0.0931 - accuracy: 0.9761\n",
      "Epoch 66/100\n",
      "1800/1800 [==============================] - 0s 21us/step - loss: 0.0908 - accuracy: 0.9806\n",
      "Epoch 67/100\n",
      "1800/1800 [==============================] - 0s 23us/step - loss: 0.0887 - accuracy: 0.9783\n",
      "Epoch 68/100\n",
      "1800/1800 [==============================] - 0s 21us/step - loss: 0.0869 - accuracy: 0.9800\n",
      "Epoch 69/100\n",
      "1800/1800 [==============================] - 0s 24us/step - loss: 0.0855 - accuracy: 0.9794\n",
      "Epoch 70/100\n",
      "1800/1800 [==============================] - 0s 22us/step - loss: 0.0839 - accuracy: 0.9772\n",
      "Epoch 71/100\n",
      "1800/1800 [==============================] - 0s 24us/step - loss: 0.0828 - accuracy: 0.9822\n",
      "Epoch 72/100\n",
      "1800/1800 [==============================] - 0s 20us/step - loss: 0.0813 - accuracy: 0.9794\n",
      "Epoch 73/100\n",
      "1800/1800 [==============================] - 0s 32us/step - loss: 0.0794 - accuracy: 0.9794\n",
      "Epoch 74/100\n",
      "1800/1800 [==============================] - 0s 26us/step - loss: 0.0780 - accuracy: 0.9811\n",
      "Epoch 75/100\n",
      "1800/1800 [==============================] - 0s 25us/step - loss: 0.0767 - accuracy: 0.9817\n",
      "Epoch 76/100\n",
      "1800/1800 [==============================] - 0s 23us/step - loss: 0.0753 - accuracy: 0.9828\n",
      "Epoch 77/100\n",
      "1800/1800 [==============================] - 0s 26us/step - loss: 0.0745 - accuracy: 0.9833\n",
      "Epoch 78/100\n",
      "1800/1800 [==============================] - 0s 26us/step - loss: 0.0724 - accuracy: 0.9844\n",
      "Epoch 79/100\n"
     ]
    },
    {
     "name": "stdout",
     "output_type": "stream",
     "text": [
      "1800/1800 [==============================] - 0s 22us/step - loss: 0.0711 - accuracy: 0.9822\n",
      "Epoch 80/100\n",
      "1800/1800 [==============================] - 0s 22us/step - loss: 0.0698 - accuracy: 0.9839\n",
      "Epoch 81/100\n",
      "1800/1800 [==============================] - 0s 20us/step - loss: 0.0705 - accuracy: 0.9833\n",
      "Epoch 82/100\n",
      "1800/1800 [==============================] - 0s 22us/step - loss: 0.0694 - accuracy: 0.9822\n",
      "Epoch 83/100\n",
      "1800/1800 [==============================] - 0s 22us/step - loss: 0.0670 - accuracy: 0.9844\n",
      "Epoch 84/100\n",
      "1800/1800 [==============================] - 0s 23us/step - loss: 0.0647 - accuracy: 0.9856\n",
      "Epoch 85/100\n",
      "1800/1800 [==============================] - 0s 22us/step - loss: 0.0644 - accuracy: 0.9878\n",
      "Epoch 86/100\n",
      "1800/1800 [==============================] - 0s 23us/step - loss: 0.0648 - accuracy: 0.9844\n",
      "Epoch 87/100\n",
      "1800/1800 [==============================] - 0s 21us/step - loss: 0.0636 - accuracy: 0.9867\n",
      "Epoch 88/100\n",
      "1800/1800 [==============================] - 0s 23us/step - loss: 0.0606 - accuracy: 0.9867\n",
      "Epoch 89/100\n",
      "1800/1800 [==============================] - 0s 22us/step - loss: 0.0589 - accuracy: 0.9883\n",
      "Epoch 90/100\n",
      "1800/1800 [==============================] - 0s 21us/step - loss: 0.0579 - accuracy: 0.9878\n",
      "Epoch 91/100\n",
      "1800/1800 [==============================] - 0s 20us/step - loss: 0.0575 - accuracy: 0.9889\n",
      "Epoch 92/100\n",
      "1800/1800 [==============================] - 0s 23us/step - loss: 0.0569 - accuracy: 0.9889\n",
      "Epoch 93/100\n",
      "1800/1800 [==============================] - 0s 20us/step - loss: 0.0564 - accuracy: 0.9878\n",
      "Epoch 94/100\n",
      "1800/1800 [==============================] - 0s 23us/step - loss: 0.0544 - accuracy: 0.9894\n",
      "Epoch 95/100\n",
      "1800/1800 [==============================] - 0s 21us/step - loss: 0.0555 - accuracy: 0.9894\n",
      "Epoch 96/100\n",
      "1800/1800 [==============================] - 0s 22us/step - loss: 0.0560 - accuracy: 0.9867\n",
      "Epoch 97/100\n",
      "1800/1800 [==============================] - 0s 23us/step - loss: 0.0520 - accuracy: 0.9900\n",
      "Epoch 98/100\n",
      "1800/1800 [==============================] - 0s 22us/step - loss: 0.0508 - accuracy: 0.9894\n",
      "Epoch 99/100\n",
      "1800/1800 [==============================] - 0s 23us/step - loss: 0.0500 - accuracy: 0.9906\n",
      "Epoch 100/100\n",
      "1800/1800 [==============================] - 0s 23us/step - loss: 0.0498 - accuracy: 0.9911\n"
     ]
    }
   ],
   "source": [
    "history = model.fit(X_train, y_train, epochs=100, batch_size=64)"
   ]
  },
  {
   "cell_type": "code",
   "execution_count": 51,
   "metadata": {},
   "outputs": [],
   "source": [
    "y_pred = model.predict(X_test)\n",
    "#Converting predictions to label\n",
    "pred = list()\n",
    "for i in range(len(y_pred)):\n",
    "    pred.append(np.argmax(y_pred[i]))\n",
    "#Converting one hot encoded test label to label\n",
    "test = list()\n",
    "for i in range(len(y_test)):\n",
    "    test.append(np.argmax(y_test[i]))"
   ]
  },
  {
   "cell_type": "code",
   "execution_count": 52,
   "metadata": {},
   "outputs": [
    {
     "name": "stdout",
     "output_type": "stream",
     "text": [
      "Accuracy is: 94.5\n"
     ]
    }
   ],
   "source": [
    "from sklearn.metrics import accuracy_score\n",
    "a = accuracy_score(pred,test)\n",
    "print('Accuracy is:', a*100)"
   ]
  },
  {
   "cell_type": "code",
   "execution_count": 53,
   "metadata": {},
   "outputs": [
    {
     "name": "stdout",
     "output_type": "stream",
     "text": [
      "Train on 1800 samples, validate on 200 samples\n",
      "Epoch 1/100\n",
      "1800/1800 [==============================] - 0s 37us/step - loss: 0.0486 - accuracy: 0.9933 - val_loss: 0.1212 - val_accuracy: 0.9500\n",
      "Epoch 2/100\n",
      "1800/1800 [==============================] - 0s 30us/step - loss: 0.0481 - accuracy: 0.9939 - val_loss: 0.1214 - val_accuracy: 0.9450\n",
      "Epoch 3/100\n",
      "1800/1800 [==============================] - 0s 27us/step - loss: 0.0476 - accuracy: 0.9933 - val_loss: 0.1247 - val_accuracy: 0.9500\n",
      "Epoch 4/100\n",
      "1800/1800 [==============================] - 0s 28us/step - loss: 0.0487 - accuracy: 0.9917 - val_loss: 0.1171 - val_accuracy: 0.9500\n",
      "Epoch 5/100\n",
      "1800/1800 [==============================] - 0s 26us/step - loss: 0.0461 - accuracy: 0.9939 - val_loss: 0.1166 - val_accuracy: 0.9500\n",
      "Epoch 6/100\n",
      "1800/1800 [==============================] - 0s 27us/step - loss: 0.0447 - accuracy: 0.9950 - val_loss: 0.1181 - val_accuracy: 0.9500\n",
      "Epoch 7/100\n",
      "1800/1800 [==============================] - 0s 27us/step - loss: 0.0444 - accuracy: 0.9950 - val_loss: 0.1195 - val_accuracy: 0.9500\n",
      "Epoch 8/100\n",
      "1800/1800 [==============================] - 0s 27us/step - loss: 0.0453 - accuracy: 0.9917 - val_loss: 0.1142 - val_accuracy: 0.9500\n",
      "Epoch 9/100\n",
      "1800/1800 [==============================] - 0s 27us/step - loss: 0.0435 - accuracy: 0.9956 - val_loss: 0.1125 - val_accuracy: 0.9600\n",
      "Epoch 10/100\n",
      "1800/1800 [==============================] - 0s 27us/step - loss: 0.0421 - accuracy: 0.9956 - val_loss: 0.1194 - val_accuracy: 0.9500\n",
      "Epoch 11/100\n",
      "1800/1800 [==============================] - 0s 27us/step - loss: 0.0416 - accuracy: 0.9950 - val_loss: 0.1153 - val_accuracy: 0.9450\n",
      "Epoch 12/100\n",
      "1800/1800 [==============================] - 0s 26us/step - loss: 0.0414 - accuracy: 0.9939 - val_loss: 0.1168 - val_accuracy: 0.9500\n",
      "Epoch 13/100\n",
      "1800/1800 [==============================] - 0s 27us/step - loss: 0.0410 - accuracy: 0.9956 - val_loss: 0.1222 - val_accuracy: 0.9550\n",
      "Epoch 14/100\n",
      "1800/1800 [==============================] - 0s 28us/step - loss: 0.0402 - accuracy: 0.9956 - val_loss: 0.1166 - val_accuracy: 0.9450\n",
      "Epoch 15/100\n",
      "1800/1800 [==============================] - 0s 27us/step - loss: 0.0396 - accuracy: 0.9944 - val_loss: 0.1185 - val_accuracy: 0.9500\n",
      "Epoch 16/100\n",
      "1800/1800 [==============================] - 0s 29us/step - loss: 0.0406 - accuracy: 0.9922 - val_loss: 0.1183 - val_accuracy: 0.9550\n",
      "Epoch 17/100\n",
      "1800/1800 [==============================] - 0s 25us/step - loss: 0.0389 - accuracy: 0.9939 - val_loss: 0.1174 - val_accuracy: 0.9450\n",
      "Epoch 18/100\n",
      "1800/1800 [==============================] - 0s 27us/step - loss: 0.0377 - accuracy: 0.9950 - val_loss: 0.1165 - val_accuracy: 0.9450\n",
      "Epoch 19/100\n",
      "1800/1800 [==============================] - ETA: 0s - loss: 0.0346 - accuracy: 1.00 - 0s 29us/step - loss: 0.0370 - accuracy: 0.9956 - val_loss: 0.1137 - val_accuracy: 0.9550\n",
      "Epoch 20/100\n",
      "1800/1800 [==============================] - 0s 26us/step - loss: 0.0364 - accuracy: 0.9956 - val_loss: 0.1141 - val_accuracy: 0.9500\n",
      "Epoch 21/100\n",
      "1800/1800 [==============================] - 0s 28us/step - loss: 0.0361 - accuracy: 0.9967 - val_loss: 0.1143 - val_accuracy: 0.9600\n",
      "Epoch 22/100\n",
      "1800/1800 [==============================] - 0s 25us/step - loss: 0.0359 - accuracy: 0.9950 - val_loss: 0.1112 - val_accuracy: 0.9600\n",
      "Epoch 23/100\n",
      "1800/1800 [==============================] - 0s 27us/step - loss: 0.0355 - accuracy: 0.9950 - val_loss: 0.1180 - val_accuracy: 0.9550\n",
      "Epoch 24/100\n",
      "1800/1800 [==============================] - 0s 27us/step - loss: 0.0342 - accuracy: 0.9961 - val_loss: 0.1164 - val_accuracy: 0.9550\n",
      "Epoch 25/100\n",
      "1800/1800 [==============================] - 0s 27us/step - loss: 0.0338 - accuracy: 0.9956 - val_loss: 0.1120 - val_accuracy: 0.9550\n",
      "Epoch 26/100\n",
      "1800/1800 [==============================] - 0s 26us/step - loss: 0.0336 - accuracy: 0.9956 - val_loss: 0.1134 - val_accuracy: 0.9550\n",
      "Epoch 27/100\n",
      "1800/1800 [==============================] - 0s 45us/step - loss: 0.0328 - accuracy: 0.9956 - val_loss: 0.1148 - val_accuracy: 0.9550\n",
      "Epoch 28/100\n",
      "1800/1800 [==============================] - 0s 37us/step - loss: 0.0324 - accuracy: 0.9961 - val_loss: 0.1107 - val_accuracy: 0.9600\n",
      "Epoch 29/100\n",
      "1800/1800 [==============================] - 0s 38us/step - loss: 0.0324 - accuracy: 0.9961 - val_loss: 0.1170 - val_accuracy: 0.9550\n",
      "Epoch 30/100\n",
      "1800/1800 [==============================] - 0s 31us/step - loss: 0.0317 - accuracy: 0.9961 - val_loss: 0.1171 - val_accuracy: 0.9550\n",
      "Epoch 31/100\n",
      "1800/1800 [==============================] - 0s 31us/step - loss: 0.0311 - accuracy: 0.9972 - val_loss: 0.1133 - val_accuracy: 0.9600\n",
      "Epoch 32/100\n",
      "1800/1800 [==============================] - 0s 32us/step - loss: 0.0304 - accuracy: 0.9961 - val_loss: 0.1124 - val_accuracy: 0.9600\n",
      "Epoch 33/100\n",
      "1800/1800 [==============================] - 0s 29us/step - loss: 0.0302 - accuracy: 0.9967 - val_loss: 0.1153 - val_accuracy: 0.9550\n",
      "Epoch 34/100\n",
      "1800/1800 [==============================] - 0s 35us/step - loss: 0.0296 - accuracy: 0.9972 - val_loss: 0.1155 - val_accuracy: 0.9600\n",
      "Epoch 35/100\n",
      "1800/1800 [==============================] - 0s 33us/step - loss: 0.0295 - accuracy: 0.9967 - val_loss: 0.1130 - val_accuracy: 0.9550\n",
      "Epoch 36/100\n",
      "1800/1800 [==============================] - 0s 29us/step - loss: 0.0283 - accuracy: 0.9956 - val_loss: 0.1165 - val_accuracy: 0.9600\n",
      "Epoch 37/100\n",
      "1800/1800 [==============================] - 0s 26us/step - loss: 0.0285 - accuracy: 0.9967 - val_loss: 0.1131 - val_accuracy: 0.9600\n",
      "Epoch 38/100\n",
      "1800/1800 [==============================] - 0s 22us/step - loss: 0.0281 - accuracy: 0.9961 - val_loss: 0.1150 - val_accuracy: 0.9550\n",
      "Epoch 39/100\n",
      "1800/1800 [==============================] - 0s 23us/step - loss: 0.0273 - accuracy: 0.9978 - val_loss: 0.1124 - val_accuracy: 0.9550\n",
      "Epoch 40/100\n",
      "1800/1800 [==============================] - 0s 26us/step - loss: 0.0279 - accuracy: 0.9967 - val_loss: 0.1163 - val_accuracy: 0.9600\n",
      "Epoch 41/100\n",
      "1800/1800 [==============================] - 0s 28us/step - loss: 0.0270 - accuracy: 0.9967 - val_loss: 0.1186 - val_accuracy: 0.9550\n",
      "Epoch 42/100\n",
      "1800/1800 [==============================] - 0s 28us/step - loss: 0.0268 - accuracy: 0.9972 - val_loss: 0.1141 - val_accuracy: 0.9500\n",
      "Epoch 43/100\n",
      "1800/1800 [==============================] - 0s 31us/step - loss: 0.0263 - accuracy: 0.9961 - val_loss: 0.1229 - val_accuracy: 0.9550\n",
      "Epoch 44/100\n",
      "1800/1800 [==============================] - 0s 25us/step - loss: 0.0255 - accuracy: 0.9978 - val_loss: 0.1158 - val_accuracy: 0.9550\n",
      "Epoch 45/100\n",
      "1800/1800 [==============================] - 0s 22us/step - loss: 0.0253 - accuracy: 0.9972 - val_loss: 0.1171 - val_accuracy: 0.9550\n",
      "Epoch 46/100\n",
      "1800/1800 [==============================] - 0s 27us/step - loss: 0.0249 - accuracy: 0.9978 - val_loss: 0.1149 - val_accuracy: 0.9550\n",
      "Epoch 47/100\n",
      "1800/1800 [==============================] - 0s 52us/step - loss: 0.0243 - accuracy: 0.9978 - val_loss: 0.1151 - val_accuracy: 0.9500\n",
      "Epoch 48/100\n",
      "1800/1800 [==============================] - 0s 28us/step - loss: 0.0241 - accuracy: 0.9978 - val_loss: 0.1154 - val_accuracy: 0.9550\n",
      "Epoch 49/100\n",
      "1800/1800 [==============================] - 0s 29us/step - loss: 0.0241 - accuracy: 0.9978 - val_loss: 0.1146 - val_accuracy: 0.9550\n",
      "Epoch 50/100\n",
      "1800/1800 [==============================] - 0s 30us/step - loss: 0.0257 - accuracy: 0.9967 - val_loss: 0.1143 - val_accuracy: 0.9500\n",
      "Epoch 51/100\n",
      "1800/1800 [==============================] - 0s 26us/step - loss: 0.0235 - accuracy: 0.9978 - val_loss: 0.1191 - val_accuracy: 0.9550\n",
      "Epoch 52/100\n",
      "1800/1800 [==============================] - 0s 23us/step - loss: 0.0228 - accuracy: 0.9978 - val_loss: 0.1185 - val_accuracy: 0.9500\n",
      "Epoch 53/100\n",
      "1800/1800 [==============================] - 0s 27us/step - loss: 0.0227 - accuracy: 0.9978 - val_loss: 0.1162 - val_accuracy: 0.9550\n",
      "Epoch 54/100\n",
      "1800/1800 [==============================] - 0s 25us/step - loss: 0.0216 - accuracy: 0.9983 - val_loss: 0.1163 - val_accuracy: 0.9500\n",
      "Epoch 55/100\n",
      "1800/1800 [==============================] - 0s 27us/step - loss: 0.0224 - accuracy: 0.9972 - val_loss: 0.1193 - val_accuracy: 0.9550\n",
      "Epoch 56/100\n",
      "1800/1800 [==============================] - 0s 27us/step - loss: 0.0210 - accuracy: 0.9989 - val_loss: 0.1194 - val_accuracy: 0.9450\n",
      "Epoch 57/100\n",
      "1800/1800 [==============================] - 0s 25us/step - loss: 0.0211 - accuracy: 0.9983 - val_loss: 0.1218 - val_accuracy: 0.9500\n",
      "Epoch 58/100\n",
      "1800/1800 [==============================] - 0s 25us/step - loss: 0.0205 - accuracy: 0.9983 - val_loss: 0.1210 - val_accuracy: 0.9450\n",
      "Epoch 59/100\n",
      "1800/1800 [==============================] - 0s 23us/step - loss: 0.0203 - accuracy: 0.9989 - val_loss: 0.1160 - val_accuracy: 0.9550\n",
      "Epoch 60/100\n",
      "1800/1800 [==============================] - 0s 26us/step - loss: 0.0203 - accuracy: 0.9994 - val_loss: 0.1217 - val_accuracy: 0.9450\n",
      "Epoch 61/100\n",
      "1800/1800 [==============================] - 0s 24us/step - loss: 0.0198 - accuracy: 0.9983 - val_loss: 0.1193 - val_accuracy: 0.9500\n",
      "Epoch 62/100\n",
      "1800/1800 [==============================] - 0s 24us/step - loss: 0.0204 - accuracy: 0.9983 - val_loss: 0.1256 - val_accuracy: 0.9500\n",
      "Epoch 63/100\n",
      "1800/1800 [==============================] - 0s 23us/step - loss: 0.0199 - accuracy: 0.9972 - val_loss: 0.1243 - val_accuracy: 0.9500\n",
      "Epoch 64/100\n",
      "1800/1800 [==============================] - 0s 23us/step - loss: 0.0189 - accuracy: 0.9989 - val_loss: 0.1249 - val_accuracy: 0.9500\n",
      "Epoch 65/100\n",
      "1800/1800 [==============================] - 0s 21us/step - loss: 0.0188 - accuracy: 0.9989 - val_loss: 0.1242 - val_accuracy: 0.9550\n",
      "Epoch 66/100\n",
      "1800/1800 [==============================] - 0s 24us/step - loss: 0.0186 - accuracy: 0.9989 - val_loss: 0.1190 - val_accuracy: 0.9500\n",
      "Epoch 67/100\n",
      "1800/1800 [==============================] - 0s 22us/step - loss: 0.0179 - accuracy: 1.0000 - val_loss: 0.1217 - val_accuracy: 0.9550\n",
      "Epoch 68/100\n",
      "1800/1800 [==============================] - 0s 21us/step - loss: 0.0183 - accuracy: 0.9983 - val_loss: 0.1185 - val_accuracy: 0.9500\n",
      "Epoch 69/100\n",
      "1800/1800 [==============================] - 0s 22us/step - loss: 0.0183 - accuracy: 0.9989 - val_loss: 0.1221 - val_accuracy: 0.9450\n",
      "Epoch 70/100\n",
      "1800/1800 [==============================] - 0s 23us/step - loss: 0.0171 - accuracy: 0.9989 - val_loss: 0.1173 - val_accuracy: 0.9450\n",
      "Epoch 71/100\n",
      "1800/1800 [==============================] - 0s 22us/step - loss: 0.0171 - accuracy: 0.9994 - val_loss: 0.1245 - val_accuracy: 0.9450\n",
      "Epoch 72/100\n",
      "1800/1800 [==============================] - 0s 25us/step - loss: 0.0173 - accuracy: 0.9994 - val_loss: 0.1202 - val_accuracy: 0.9450\n",
      "Epoch 73/100\n",
      "1800/1800 [==============================] - 0s 24us/step - loss: 0.0175 - accuracy: 0.9994 - val_loss: 0.1271 - val_accuracy: 0.9450\n",
      "Epoch 74/100\n",
      "1800/1800 [==============================] - 0s 25us/step - loss: 0.0172 - accuracy: 0.9989 - val_loss: 0.1281 - val_accuracy: 0.9500\n",
      "Epoch 75/100\n",
      "1800/1800 [==============================] - 0s 24us/step - loss: 0.0160 - accuracy: 0.9989 - val_loss: 0.1238 - val_accuracy: 0.9500\n",
      "Epoch 76/100\n",
      "1800/1800 [==============================] - 0s 25us/step - loss: 0.0165 - accuracy: 0.9994 - val_loss: 0.1270 - val_accuracy: 0.9500\n",
      "Epoch 77/100\n",
      "1800/1800 [==============================] - 0s 24us/step - loss: 0.0161 - accuracy: 0.9994 - val_loss: 0.1260 - val_accuracy: 0.9500\n",
      "Epoch 78/100\n",
      "1800/1800 [==============================] - 0s 23us/step - loss: 0.0161 - accuracy: 0.9994 - val_loss: 0.1278 - val_accuracy: 0.9500\n",
      "Epoch 79/100\n",
      "1800/1800 [==============================] - 0s 21us/step - loss: 0.0170 - accuracy: 0.9989 - val_loss: 0.1210 - val_accuracy: 0.9450\n",
      "Epoch 80/100\n",
      "1800/1800 [==============================] - 0s 23us/step - loss: 0.0150 - accuracy: 0.9994 - val_loss: 0.1173 - val_accuracy: 0.9500\n",
      "Epoch 81/100\n",
      "1800/1800 [==============================] - 0s 25us/step - loss: 0.0163 - accuracy: 0.9989 - val_loss: 0.1211 - val_accuracy: 0.9450\n",
      "Epoch 82/100\n",
      "1800/1800 [==============================] - 0s 22us/step - loss: 0.0168 - accuracy: 0.9989 - val_loss: 0.1200 - val_accuracy: 0.9450\n",
      "Epoch 83/100\n",
      "1800/1800 [==============================] - 0s 23us/step - loss: 0.0149 - accuracy: 1.0000 - val_loss: 0.1275 - val_accuracy: 0.9500\n",
      "Epoch 84/100\n",
      "1800/1800 [==============================] - 0s 24us/step - loss: 0.0145 - accuracy: 0.9994 - val_loss: 0.1217 - val_accuracy: 0.9500\n",
      "Epoch 85/100\n",
      "1800/1800 [==============================] - 0s 22us/step - loss: 0.0141 - accuracy: 1.0000 - val_loss: 0.1244 - val_accuracy: 0.9450\n",
      "Epoch 86/100\n",
      "1800/1800 [==============================] - 0s 23us/step - loss: 0.0138 - accuracy: 1.0000 - val_loss: 0.1201 - val_accuracy: 0.9500\n",
      "Epoch 87/100\n",
      "1800/1800 [==============================] - 0s 25us/step - loss: 0.0135 - accuracy: 0.9994 - val_loss: 0.1280 - val_accuracy: 0.9500\n",
      "Epoch 88/100\n",
      "1800/1800 [==============================] - 0s 23us/step - loss: 0.0135 - accuracy: 0.9994 - val_loss: 0.1215 - val_accuracy: 0.9450\n",
      "Epoch 89/100\n",
      "1800/1800 [==============================] - 0s 23us/step - loss: 0.0132 - accuracy: 1.0000 - val_loss: 0.1249 - val_accuracy: 0.9450\n",
      "Epoch 90/100\n",
      "1800/1800 [==============================] - 0s 24us/step - loss: 0.0130 - accuracy: 1.0000 - val_loss: 0.1250 - val_accuracy: 0.9500\n",
      "Epoch 91/100\n",
      "1800/1800 [==============================] - 0s 24us/step - loss: 0.0183 - accuracy: 0.9967 - val_loss: 0.1446 - val_accuracy: 0.9400\n",
      "Epoch 92/100\n",
      "1800/1800 [==============================] - 0s 23us/step - loss: 0.0159 - accuracy: 0.9978 - val_loss: 0.1257 - val_accuracy: 0.9450\n",
      "Epoch 93/100\n",
      "1800/1800 [==============================] - 0s 25us/step - loss: 0.0127 - accuracy: 0.9994 - val_loss: 0.1302 - val_accuracy: 0.9450\n",
      "Epoch 94/100\n",
      "1800/1800 [==============================] - 0s 31us/step - loss: 0.0122 - accuracy: 1.0000 - val_loss: 0.1260 - val_accuracy: 0.9500\n",
      "Epoch 95/100\n",
      "1800/1800 [==============================] - 0s 30us/step - loss: 0.0122 - accuracy: 0.9994 - val_loss: 0.1294 - val_accuracy: 0.9450\n",
      "Epoch 96/100\n",
      "1800/1800 [==============================] - 0s 25us/step - loss: 0.0119 - accuracy: 1.0000 - val_loss: 0.1271 - val_accuracy: 0.9450\n",
      "Epoch 97/100\n",
      "1800/1800 [==============================] - 0s 22us/step - loss: 0.0118 - accuracy: 0.9994 - val_loss: 0.1304 - val_accuracy: 0.9450\n",
      "Epoch 98/100\n",
      "1800/1800 [==============================] - 0s 23us/step - loss: 0.0114 - accuracy: 1.0000 - val_loss: 0.1302 - val_accuracy: 0.9450\n",
      "Epoch 99/100\n",
      "1800/1800 [==============================] - 0s 23us/step - loss: 0.0143 - accuracy: 0.9983 - val_loss: 0.1226 - val_accuracy: 0.9500\n",
      "Epoch 100/100\n",
      "1800/1800 [==============================] - 0s 25us/step - loss: 0.0124 - accuracy: 0.9994 - val_loss: 0.1303 - val_accuracy: 0.9450\n"
     ]
    }
   ],
   "source": [
    "history = model.fit(X_train, y_train,validation_data = (X_test,y_test), epochs=100, batch_size=64)"
   ]
  },
  {
   "cell_type": "code",
   "execution_count": 54,
   "metadata": {},
   "outputs": [],
   "source": [
    "import matplotlib.pyplot as plt"
   ]
  },
  {
   "cell_type": "code",
   "execution_count": 55,
   "metadata": {},
   "outputs": [
    {
     "data": {
      "text/plain": [
       "dict_keys(['val_loss', 'val_accuracy', 'loss', 'accuracy'])"
      ]
     },
     "execution_count": 55,
     "metadata": {},
     "output_type": "execute_result"
    }
   ],
   "source": [
    "history.history.keys()"
   ]
  },
  {
   "cell_type": "code",
   "execution_count": 56,
   "metadata": {},
   "outputs": [
    {
     "data": {
      "image/png": "[encoded data removed]",
      "text/plain": [
       "<Figure size 432x288 with 1 Axes>"
      ]
     },
     "metadata": {
      "needs_background": "light"
     },
     "output_type": "display_data"
    }
   ],
   "source": [
    "plt.plot(history.history['accuracy'])\n",
    "plt.plot(history.history['val_accuracy'])\n",
    "plt.title('Model accuracy')\n",
    "plt.ylabel('Accuracy')\n",
    "plt.xlabel('Epoch')\n",
    "plt.legend(['Train', 'Test'], loc='best')\n",
    "plt.show()"
   ]
  },
  {
   "cell_type": "code",
   "execution_count": 59,
   "metadata": {},
   "outputs": [
    {
     "data": {
      "image/png": "[encoded data removed]",
      "text/plain": [
       "<Figure size 432x288 with 1 Axes>"
      ]
     },
     "metadata": {
      "needs_background": "light"
     },
     "output_type": "display_data"
    }
   ],
   "source": [
    "plt.plot(history.history['loss'])\n",
    "plt.plot(history.history['val_loss']) \n",
    "plt.title('Model loss') \n",
    "plt.ylabel('Loss') \n",
    "plt.xlabel('Epoch') \n",
    "plt.legend(['Train', 'Test'])\n",
    "plt.show()"
   ]
  },
  {
   "cell_type": "code",
   "execution_count": null,
   "metadata": {},
   "outputs": [],
   "source": []
  }
 ],
 "metadata": {
  "kernelspec": {
   "display_name": "Python 3",
   "language": "python",
   "name": "python3"
  },
  "language_info": {
   "codemirror_mode": {
    "name": "ipython",
    "version": 3
   },
   "file_extension": ".py",
   "mimetype": "text/x-python",
   "name": "python",
   "nbconvert_exporter": "python",
   "pygments_lexer": "ipython3",
   "version": "3.7.6"
  }
 },
 "nbformat": 4,
 "nbformat_minor": 4
}
