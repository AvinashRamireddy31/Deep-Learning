{
 "cells": [
  {
   "cell_type": "code",
   "execution_count": 15,
   "metadata": {},
   "outputs": [
    {
     "data": {
      "text/html": [
       "<style>.container { width:99% !important; }</style>"
      ],
      "text/plain": [
       "<IPython.core.display.HTML object>"
      ]
     },
     "metadata": {},
     "output_type": "display_data"
    }
   ],
   "source": [
    "from IPython.core.display import display, HTML\n",
    "display(HTML(\"<style>.container { width:99% !important; }</style>\"))"
   ]
  },
  {
   "cell_type": "code",
   "execution_count": 16,
   "metadata": {},
   "outputs": [],
   "source": [
    "# pip install pydot"
   ]
  },
  {
   "cell_type": "code",
   "execution_count": 17,
   "metadata": {},
   "outputs": [],
   "source": [
    "# conda install graphviz"
   ]
  },
  {
   "cell_type": "code",
   "execution_count": 18,
   "metadata": {},
   "outputs": [],
   "source": [
    "import numpy as np\n",
    "\n",
    "import keras\n",
    "from keras.models import Sequential\n",
    "from keras.layers import Dense\n",
    "from keras import backend\n",
    "from keras.utils.vis_utils import plot_model"
   ]
  },
  {
   "cell_type": "code",
   "execution_count": 19,
   "metadata": {},
   "outputs": [],
   "source": [
    "model = Sequential()\n",
    "model.add(Dense(2,input_shape=(2,), activation = 'sigmoid'))\n",
    "model.add(Dense(1))"
   ]
  },
  {
   "cell_type": "code",
   "execution_count": 20,
   "metadata": {},
   "outputs": [],
   "source": [
    "w1 = np.zeros((2, 2)) # two input neurons for two neurons at the hidden layer\n",
    "b1 = np.zeros((2,))   # one bias neuron for two neurons in the hidden layer\n",
    "w2 = np.zeros((2, 1)) # two input neurons for one output neuron\n",
    "b2 = np.zeros((1,))   # one bias for one output neuron"
   ]
  },
  {
   "cell_type": "code",
   "execution_count": 21,
   "metadata": {},
   "outputs": [],
   "source": [
    "w1[:, 0] =  1 # the weights for the first hidden neuron are all 1\n",
    "b1[0]    =  0 # bias for the first neuron\n",
    "w1[:, 1] =  2 # the weights for the second hidden neuron are all 2\n",
    "b1[1]    = -1 # bias for the second neuron\n",
    "w2[0, 0] =  1 # weight for the first input of the output neuron\n",
    "w2[1, 0] = -2 # weight for the second input of the output neuron\n",
    "b2[0]    =  0 # bias for the output neuron"
   ]
  },
  {
   "cell_type": "code",
   "execution_count": 8,
   "metadata": {},
   "outputs": [],
   "source": [
    "b1[0] = 0.35\n",
    "b1[1] = 0.35"
   ]
  },
  {
   "cell_type": "code",
   "execution_count": 9,
   "metadata": {},
   "outputs": [
    {
     "data": {
      "text/plain": [
       "array([[1., 2.],\n",
       "       [1., 2.]])"
      ]
     },
     "execution_count": 9,
     "metadata": {},
     "output_type": "execute_result"
    }
   ],
   "source": [
    "w1"
   ]
  },
  {
   "cell_type": "code",
   "execution_count": 10,
   "metadata": {},
   "outputs": [
    {
     "data": {
      "text/plain": [
       "array([[0.15, 0.25],\n",
       "       [0.2 , 0.3 ]])"
      ]
     },
     "execution_count": 10,
     "metadata": {},
     "output_type": "execute_result"
    }
   ],
   "source": [
    "w1[0,0] = 0.15\n",
    "w1[0,1] = 0.25\n",
    "\n",
    "w1[1,0] = 0.20\n",
    "w1[1,1] = 0.30\n",
    "\n",
    "w1"
   ]
  },
  {
   "cell_type": "code",
   "execution_count": 11,
   "metadata": {},
   "outputs": [],
   "source": [
    "model.set_weights([w1, b1, w2, b2])"
   ]
  },
  {
   "cell_type": "code",
   "execution_count": 12,
   "metadata": {},
   "outputs": [],
   "source": [
    "x = np.array([\n",
    "    [0.05,0.10]\n",
    "# [0, 0],\n",
    "# [0, 1],\n",
    "# [1, 0],\n",
    "# [1, 1],\n",
    "])\n",
    "\n",
    "# model.predict(x)"
   ]
  },
  {
   "cell_type": "code",
   "execution_count": 13,
   "metadata": {},
   "outputs": [
    {
     "name": "stdout",
     "output_type": "stream",
     "text": [
      "[array([[0.15, 0.25],\n",
      "       [0.2 , 0.3 ]], dtype=float32), array([0.35, 0.35], dtype=float32)]\n",
      "[array([[ 1.],\n",
      "       [-2.]], dtype=float32), array([0.], dtype=float32)]\n"
     ]
    }
   ],
   "source": [
    "for l in model.layers:\n",
    "    print(l.get_weights())"
   ]
  },
  {
   "cell_type": "code",
   "execution_count": 14,
   "metadata": {},
   "outputs": [
    {
     "data": {
      "text/plain": [
       "[array([[0.59327   , 0.59688437]], dtype=float32)]"
      ]
     },
     "execution_count": 14,
     "metadata": {},
     "output_type": "execute_result"
    }
   ],
   "source": [
    "hidden_layers = backend.function(\n",
    "[model.layers[0].input],  # we will feed the function with the input of the first layer  \n",
    "[model.layers[0].output,] # we want to get the output of the first layer\n",
    ")\n",
    "hidden_layers([x])"
   ]
  },
  {
   "cell_type": "code",
   "execution_count": 82,
   "metadata": {},
   "outputs": [
    {
     "data": {
      "text/plain": [
       "[array([[-0.60049874]], dtype=float32)]"
      ]
     },
     "execution_count": 82,
     "metadata": {},
     "output_type": "execute_result"
    }
   ],
   "source": [
    "hidden_layers = backend.function(\n",
    "[model.layers[0].input],  # we will feed the function with the input of the first layer  \n",
    "[model.layers[1].output,] # we want to get the output of the first layer\n",
    ")\n",
    "hidden_layers([x])"
   ]
  },
  {
   "cell_type": "code",
   "execution_count": null,
   "metadata": {},
   "outputs": [],
   "source": []
  },
  {
   "cell_type": "code",
   "execution_count": null,
   "metadata": {},
   "outputs": [],
   "source": []
  },
  {
   "cell_type": "code",
   "execution_count": null,
   "metadata": {},
   "outputs": [],
   "source": []
  },
  {
   "cell_type": "code",
   "execution_count": null,
   "metadata": {},
   "outputs": [],
   "source": []
  },
  {
   "cell_type": "code",
   "execution_count": null,
   "metadata": {},
   "outputs": [],
   "source": []
  },
  {
   "cell_type": "code",
   "execution_count": null,
   "metadata": {},
   "outputs": [],
   "source": []
  },
  {
   "cell_type": "code",
   "execution_count": null,
   "metadata": {},
   "outputs": [],
   "source": []
  },
  {
   "cell_type": "code",
   "execution_count": null,
   "metadata": {},
   "outputs": [],
   "source": [
    "import numpy as np"
   ]
  },
  {
   "cell_type": "code",
   "execution_count": null,
   "metadata": {},
   "outputs": [],
   "source": [
    "def sigmoid(x):\n",
    "    return 1/(1 + np.exp(-x))"
   ]
  },
  {
   "cell_type": "code",
   "execution_count": null,
   "metadata": {},
   "outputs": [],
   "source": [
    "def sigmoid_derivate(x):\n",
    "    return x*(1-x)"
   ]
  },
  {
   "cell_type": "code",
   "execution_count": null,
   "metadata": {},
   "outputs": [],
   "source": [
    "training_inputs = np.array([[0,0,1],\n",
    "                            [1,1,1],\n",
    "                            [1,0,1],\n",
    "                            [0,1,1]])\n",
    "training_outputs = np.array([[0,1,1,0]]).T"
   ]
  },
  {
   "cell_type": "code",
   "execution_count": null,
   "metadata": {},
   "outputs": [],
   "source": [
    "np.random.seed(1)"
   ]
  },
  {
   "cell_type": "code",
   "execution_count": null,
   "metadata": {},
   "outputs": [],
   "source": [
    "synaptic_weights = 2* np.random.random((3,1)) - 1"
   ]
  },
  {
   "cell_type": "code",
   "execution_count": null,
   "metadata": {},
   "outputs": [],
   "source": [
    "print(\"random starting synaptic weights\")\n",
    "print(synaptic_weights)"
   ]
  },
  {
   "cell_type": "code",
   "execution_count": null,
   "metadata": {},
   "outputs": [],
   "source": [
    "for iteration in range(20000):\n",
    "    input_layer = training_inputs\n",
    "    outputs = sigmoid(np.dot(input_layer, synaptic_weights))\n",
    "    error = training_outputs - outputs\n",
    "    adjustments = error * sigmoid_derivate(outputs)\n",
    "    synaptic_weights += np.dot(input_layer.T, adjustments)\n",
    "\n",
    "    \n",
    "print(\"synaptic weights after training\")\n",
    "print(synaptic_weights)\n",
    "    \n",
    "print(\"Original training outputs\")\n",
    "print(training_outputs)\n",
    "print(\"outputs after training\")\n",
    "print(outputs)"
   ]
  },
  {
   "cell_type": "code",
   "execution_count": null,
   "metadata": {},
   "outputs": [],
   "source": []
  },
  {
   "cell_type": "code",
   "execution_count": null,
   "metadata": {},
   "outputs": [],
   "source": [
    "class MLP:\n",
    "    def __init__(self, num_inputs=2, num_hidden=[3,4], num_outputs = 2):\n",
    "        self.num_inputs = num_inputs\n",
    "        self.num_hidden = num_hidden\n",
    "        self.num_outputs = num_outputs\n",
    "        \n",
    "        layers = [self.num_inputs] + self.num_hidden + [self.num_outputs]\n",
    "         \n",
    "        weights = [] \n",
    "        for i in range(len(layers)-1):\n",
    "            w = np.random.rand(layers[i], layers[i+1])\n",
    "            weights.append(w)\n",
    "        self.weights = weights\n",
    "        \n",
    "        activations = []\n",
    "        for i in range(len(layers)):\n",
    "            a = np.zeros(layers[i])\n",
    "            activations.append(a)\n",
    "        self.activations = activations\n",
    "        \n",
    "        derivatives = [] \n",
    "        for i in range(len(layers)-1):\n",
    "            d = np.random.rand(layers[i], layers[i+1])\n",
    "            derivatives.append(w)\n",
    "        self.derivatives = derivatives\n",
    "            \n",
    "    def forward_propagate(self, inputs):\n",
    "        activations = inputs  \n",
    "        \n",
    "        self.activations[0] = inputs\n",
    "        \n",
    "        for i, w in enumerate(self.weights):\n",
    "            net_inputs = np.dot(activations, w) \n",
    "             \n",
    "            activations = self.sigmoid(net_inputs)\n",
    "            \n",
    "            self.activations[i+1] = activations\n",
    "            \n",
    "        return activations\n",
    "    \n",
    "    def back_propagate(self, error):\n",
    "        for i in reverse(range(len(self.derivatives))):\n",
    "            print(i)\n",
    "        \n",
    "    def sigmoid(self, x):\n",
    "        return 1/(1+ np.exp(-x))\n",
    "    \n",
    "    \n",
    "    "
   ]
  },
  {
   "cell_type": "code",
   "execution_count": null,
   "metadata": {},
   "outputs": [],
   "source": [
    "np.random.seed(1)\n",
    "\n",
    "mlp = MLP() \n",
    "inputs = np.random.rand(mlp.num_inputs)\n",
    "outputs = mlp.forward_propagate(inputs)\n",
    "print(outputs)\n"
   ]
  },
  {
   "cell_type": "code",
   "execution_count": null,
   "metadata": {},
   "outputs": [],
   "source": []
  },
  {
   "cell_type": "code",
   "execution_count": 23,
   "metadata": {},
   "outputs": [],
   "source": [
    "import numpy as np\n",
    "import pandas as pd"
   ]
  },
  {
   "cell_type": "code",
   "execution_count": 24,
   "metadata": {},
   "outputs": [
    {
     "data": {
      "text/html": [
       "<div>\n",
       "<style scoped>\n",
       "    .dataframe tbody tr th:only-of-type {\n",
       "        vertical-align: middle;\n",
       "    }\n",
       "\n",
       "    .dataframe tbody tr th {\n",
       "        vertical-align: top;\n",
       "    }\n",
       "\n",
       "    .dataframe thead th {\n",
       "        text-align: right;\n",
       "    }\n",
       "</style>\n",
       "<table border=\"1\" class=\"dataframe\">\n",
       "  <thead>\n",
       "    <tr style=\"text-align: right;\">\n",
       "      <th></th>\n",
       "      <th>battery_power</th>\n",
       "      <th>blue</th>\n",
       "      <th>clock_speed</th>\n",
       "      <th>dual_sim</th>\n",
       "      <th>fc</th>\n",
       "      <th>four_g</th>\n",
       "      <th>int_memory</th>\n",
       "      <th>m_dep</th>\n",
       "      <th>mobile_wt</th>\n",
       "      <th>n_cores</th>\n",
       "      <th>...</th>\n",
       "      <th>px_height</th>\n",
       "      <th>px_width</th>\n",
       "      <th>ram</th>\n",
       "      <th>sc_h</th>\n",
       "      <th>sc_w</th>\n",
       "      <th>talk_time</th>\n",
       "      <th>three_g</th>\n",
       "      <th>touch_screen</th>\n",
       "      <th>wifi</th>\n",
       "      <th>price_range</th>\n",
       "    </tr>\n",
       "  </thead>\n",
       "  <tbody>\n",
       "    <tr>\n",
       "      <th>0</th>\n",
       "      <td>842</td>\n",
       "      <td>0</td>\n",
       "      <td>2.2</td>\n",
       "      <td>0</td>\n",
       "      <td>1</td>\n",
       "      <td>0</td>\n",
       "      <td>7</td>\n",
       "      <td>0.6</td>\n",
       "      <td>188</td>\n",
       "      <td>2</td>\n",
       "      <td>...</td>\n",
       "      <td>20</td>\n",
       "      <td>756</td>\n",
       "      <td>2549</td>\n",
       "      <td>9</td>\n",
       "      <td>7</td>\n",
       "      <td>19</td>\n",
       "      <td>0</td>\n",
       "      <td>0</td>\n",
       "      <td>1</td>\n",
       "      <td>1</td>\n",
       "    </tr>\n",
       "    <tr>\n",
       "      <th>1</th>\n",
       "      <td>1021</td>\n",
       "      <td>1</td>\n",
       "      <td>0.5</td>\n",
       "      <td>1</td>\n",
       "      <td>0</td>\n",
       "      <td>1</td>\n",
       "      <td>53</td>\n",
       "      <td>0.7</td>\n",
       "      <td>136</td>\n",
       "      <td>3</td>\n",
       "      <td>...</td>\n",
       "      <td>905</td>\n",
       "      <td>1988</td>\n",
       "      <td>2631</td>\n",
       "      <td>17</td>\n",
       "      <td>3</td>\n",
       "      <td>7</td>\n",
       "      <td>1</td>\n",
       "      <td>1</td>\n",
       "      <td>0</td>\n",
       "      <td>2</td>\n",
       "    </tr>\n",
       "    <tr>\n",
       "      <th>2</th>\n",
       "      <td>563</td>\n",
       "      <td>1</td>\n",
       "      <td>0.5</td>\n",
       "      <td>1</td>\n",
       "      <td>2</td>\n",
       "      <td>1</td>\n",
       "      <td>41</td>\n",
       "      <td>0.9</td>\n",
       "      <td>145</td>\n",
       "      <td>5</td>\n",
       "      <td>...</td>\n",
       "      <td>1263</td>\n",
       "      <td>1716</td>\n",
       "      <td>2603</td>\n",
       "      <td>11</td>\n",
       "      <td>2</td>\n",
       "      <td>9</td>\n",
       "      <td>1</td>\n",
       "      <td>1</td>\n",
       "      <td>0</td>\n",
       "      <td>2</td>\n",
       "    </tr>\n",
       "    <tr>\n",
       "      <th>3</th>\n",
       "      <td>615</td>\n",
       "      <td>1</td>\n",
       "      <td>2.5</td>\n",
       "      <td>0</td>\n",
       "      <td>0</td>\n",
       "      <td>0</td>\n",
       "      <td>10</td>\n",
       "      <td>0.8</td>\n",
       "      <td>131</td>\n",
       "      <td>6</td>\n",
       "      <td>...</td>\n",
       "      <td>1216</td>\n",
       "      <td>1786</td>\n",
       "      <td>2769</td>\n",
       "      <td>16</td>\n",
       "      <td>8</td>\n",
       "      <td>11</td>\n",
       "      <td>1</td>\n",
       "      <td>0</td>\n",
       "      <td>0</td>\n",
       "      <td>2</td>\n",
       "    </tr>\n",
       "    <tr>\n",
       "      <th>4</th>\n",
       "      <td>1821</td>\n",
       "      <td>1</td>\n",
       "      <td>1.2</td>\n",
       "      <td>0</td>\n",
       "      <td>13</td>\n",
       "      <td>1</td>\n",
       "      <td>44</td>\n",
       "      <td>0.6</td>\n",
       "      <td>141</td>\n",
       "      <td>2</td>\n",
       "      <td>...</td>\n",
       "      <td>1208</td>\n",
       "      <td>1212</td>\n",
       "      <td>1411</td>\n",
       "      <td>8</td>\n",
       "      <td>2</td>\n",
       "      <td>15</td>\n",
       "      <td>1</td>\n",
       "      <td>1</td>\n",
       "      <td>0</td>\n",
       "      <td>1</td>\n",
       "    </tr>\n",
       "  </tbody>\n",
       "</table>\n",
       "<p>5 rows × 21 columns</p>\n",
       "</div>"
      ],
      "text/plain": [
       "   battery_power  blue  clock_speed  dual_sim  fc  four_g  int_memory  m_dep  \\\n",
       "0            842     0          2.2         0   1       0           7    0.6   \n",
       "1           1021     1          0.5         1   0       1          53    0.7   \n",
       "2            563     1          0.5         1   2       1          41    0.9   \n",
       "3            615     1          2.5         0   0       0          10    0.8   \n",
       "4           1821     1          1.2         0  13       1          44    0.6   \n",
       "\n",
       "   mobile_wt  n_cores  ...  px_height  px_width   ram  sc_h  sc_w  talk_time  \\\n",
       "0        188        2  ...         20       756  2549     9     7         19   \n",
       "1        136        3  ...        905      1988  2631    17     3          7   \n",
       "2        145        5  ...       1263      1716  2603    11     2          9   \n",
       "3        131        6  ...       1216      1786  2769    16     8         11   \n",
       "4        141        2  ...       1208      1212  1411     8     2         15   \n",
       "\n",
       "   three_g  touch_screen  wifi  price_range  \n",
       "0        0             0     1            1  \n",
       "1        1             1     0            2  \n",
       "2        1             1     0            2  \n",
       "3        1             0     0            2  \n",
       "4        1             1     0            1  \n",
       "\n",
       "[5 rows x 21 columns]"
      ]
     },
     "execution_count": 24,
     "metadata": {},
     "output_type": "execute_result"
    }
   ],
   "source": [
    "#dataset import\n",
    "dataset = pd.read_csv(\"data/train.csv\") #You need to change #directory accordingly\n",
    "dataset.head()"
   ]
  },
  {
   "cell_type": "code",
   "execution_count": 25,
   "metadata": {},
   "outputs": [],
   "source": [
    "#Changing pandas dataframe to numpy array\n",
    "X = dataset.iloc[:,:20].values\n",
    "y = dataset.iloc[:,20:21].values"
   ]
  },
  {
   "cell_type": "code",
   "execution_count": 26,
   "metadata": {},
   "outputs": [],
   "source": [
    "from sklearn.preprocessing import StandardScaler\n",
    "\n",
    "#Normalizing the data\n",
    "sc = StandardScaler()\n",
    "X = sc.fit_transform(X)"
   ]
  },
  {
   "cell_type": "code",
   "execution_count": 27,
   "metadata": {},
   "outputs": [
    {
     "data": {
      "text/plain": [
       "array([[-0.90259726, -0.9900495 ,  0.83077942, ..., -1.78686097,\n",
       "        -1.00601811,  0.98609664],\n",
       "       [-0.49513857,  1.0100505 , -1.2530642 , ...,  0.55964063,\n",
       "         0.99401789, -1.01409939],\n",
       "       [-1.5376865 ,  1.0100505 , -1.2530642 , ...,  0.55964063,\n",
       "         0.99401789, -1.01409939],\n",
       "       ...,\n",
       "       [ 1.53077336, -0.9900495 , -0.76274805, ...,  0.55964063,\n",
       "         0.99401789, -1.01409939],\n",
       "       [ 0.62252745, -0.9900495 , -0.76274805, ...,  0.55964063,\n",
       "         0.99401789,  0.98609664],\n",
       "       [-1.65833069,  1.0100505 ,  0.58562134, ...,  0.55964063,\n",
       "         0.99401789,  0.98609664]])"
      ]
     },
     "execution_count": 27,
     "metadata": {},
     "output_type": "execute_result"
    }
   ],
   "source": [
    "X"
   ]
  },
  {
   "cell_type": "code",
   "execution_count": 28,
   "metadata": {},
   "outputs": [],
   "source": [
    "#One hot encoding\n",
    "from sklearn.preprocessing import OneHotEncoder\n",
    "ohe = OneHotEncoder()\n",
    "y = ohe.fit_transform(y).toarray()"
   ]
  },
  {
   "cell_type": "code",
   "execution_count": 29,
   "metadata": {},
   "outputs": [],
   "source": [
    "# Train and test split\n",
    "from sklearn.model_selection import train_test_split\n",
    "X_train,X_test,y_train,y_test = train_test_split(X,y,test_size = 0.1)"
   ]
  },
  {
   "cell_type": "code",
   "execution_count": 36,
   "metadata": {},
   "outputs": [],
   "source": [
    "import keras\n",
    "from keras.models import Sequential\n",
    "from keras.layers import Dense, Dropout"
   ]
  },
  {
   "cell_type": "code",
   "execution_count": 47,
   "metadata": {},
   "outputs": [],
   "source": [
    "model = Sequential()\n",
    "model.add(Dense(16, input_dim=20, activation ='relu'))\n",
    "model.add(Dropout(0.3))\n",
    "model.add(Dense(12, activation='relu'))\n",
    "model.add(Dense(4, activation='softmax'))"
   ]
  },
  {
   "cell_type": "code",
   "execution_count": 48,
   "metadata": {},
   "outputs": [],
   "source": [
    "model.compile(loss='categorical_crossentropy', optimizer='adam', metrics=['accuracy'])"
   ]
  },
  {
   "cell_type": "code",
   "execution_count": 49,
   "metadata": {},
   "outputs": [
    {
     "name": "stdout",
     "output_type": "stream",
     "text": [
      "Epoch 1/100\n",
      "1800/1800 [==============================] - 0s 99us/step - loss: 1.4615 - accuracy: 0.2650\n",
      "Epoch 2/100\n",
      "1800/1800 [==============================] - 0s 31us/step - loss: 1.3876 - accuracy: 0.2939\n",
      "Epoch 3/100\n",
      "1800/1800 [==============================] - 0s 24us/step - loss: 1.3478 - accuracy: 0.3156\n",
      "Epoch 4/100\n",
      "1800/1800 [==============================] - 0s 26us/step - loss: 1.3307 - accuracy: 0.3200\n",
      "Epoch 5/100\n",
      "1800/1800 [==============================] - 0s 26us/step - loss: 1.2929 - accuracy: 0.3528\n",
      "Epoch 6/100\n",
      "1800/1800 [==============================] - 0s 29us/step - loss: 1.2562 - accuracy: 0.3739\n",
      "Epoch 7/100\n",
      "1800/1800 [==============================] - 0s 25us/step - loss: 1.2158 - accuracy: 0.4089\n",
      "Epoch 8/100\n",
      "1800/1800 [==============================] - 0s 26us/step - loss: 1.1560 - accuracy: 0.4461\n",
      "Epoch 9/100\n",
      "1800/1800 [==============================] - 0s 28us/step - loss: 1.1183 - accuracy: 0.4789\n",
      "Epoch 10/100\n",
      "1800/1800 [==============================] - 0s 30us/step - loss: 1.0724 - accuracy: 0.4978\n",
      "Epoch 11/100\n",
      "1800/1800 [==============================] - 0s 23us/step - loss: 1.0112 - accuracy: 0.5350\n",
      "Epoch 12/100\n",
      "1800/1800 [==============================] - 0s 38us/step - loss: 0.9554 - accuracy: 0.5589\n",
      "Epoch 13/100\n",
      "1800/1800 [==============================] - 0s 26us/step - loss: 0.9100 - accuracy: 0.5856\n",
      "Epoch 14/100\n",
      "1800/1800 [==============================] - 0s 28us/step - loss: 0.8806 - accuracy: 0.5933\n",
      "Epoch 15/100\n",
      "1800/1800 [==============================] - 0s 24us/step - loss: 0.8193 - accuracy: 0.6272\n",
      "Epoch 16/100\n",
      "1800/1800 [==============================] - 0s 34us/step - loss: 0.7965 - accuracy: 0.6300\n",
      "Epoch 17/100\n",
      "1800/1800 [==============================] - 0s 25us/step - loss: 0.7591 - accuracy: 0.6583\n",
      "Epoch 18/100\n",
      "1800/1800 [==============================] - 0s 36us/step - loss: 0.7287 - accuracy: 0.6717\n",
      "Epoch 19/100\n",
      "1800/1800 [==============================] - 0s 28us/step - loss: 0.6886 - accuracy: 0.6939\n",
      "Epoch 20/100\n",
      "1800/1800 [==============================] - 0s 27us/step - loss: 0.6680 - accuracy: 0.6972\n",
      "Epoch 21/100\n",
      "1800/1800 [==============================] - 0s 27us/step - loss: 0.6518 - accuracy: 0.6994\n",
      "Epoch 22/100\n",
      "1800/1800 [==============================] - 0s 27us/step - loss: 0.6065 - accuracy: 0.7483\n",
      "Epoch 23/100\n",
      "1800/1800 [==============================] - 0s 26us/step - loss: 0.5823 - accuracy: 0.7489\n",
      "Epoch 24/100\n",
      "1800/1800 [==============================] - 0s 25us/step - loss: 0.5711 - accuracy: 0.7622\n",
      "Epoch 25/100\n",
      "1800/1800 [==============================] - 0s 30us/step - loss: 0.5501 - accuracy: 0.7578\n",
      "Epoch 26/100\n",
      "1800/1800 [==============================] - 0s 27us/step - loss: 0.5374 - accuracy: 0.7556\n",
      "Epoch 27/100\n",
      "1800/1800 [==============================] - 0s 31us/step - loss: 0.5191 - accuracy: 0.7761\n",
      "Epoch 28/100\n",
      "1800/1800 [==============================] - 0s 35us/step - loss: 0.4983 - accuracy: 0.7856\n",
      "Epoch 29/100\n",
      "1800/1800 [==============================] - 0s 28us/step - loss: 0.4766 - accuracy: 0.8094\n",
      "Epoch 30/100\n",
      "1800/1800 [==============================] - 0s 34us/step - loss: 0.4695 - accuracy: 0.8044\n",
      "Epoch 31/100\n",
      "1800/1800 [==============================] - 0s 30us/step - loss: 0.4543 - accuracy: 0.8178\n",
      "Epoch 32/100\n",
      "1800/1800 [==============================] - 0s 25us/step - loss: 0.4463 - accuracy: 0.8178\n",
      "Epoch 33/100\n",
      "1800/1800 [==============================] - 0s 27us/step - loss: 0.4305 - accuracy: 0.8272\n",
      "Epoch 34/100\n",
      "1800/1800 [==============================] - 0s 32us/step - loss: 0.4303 - accuracy: 0.8200\n",
      "Epoch 35/100\n",
      "1800/1800 [==============================] - 0s 32us/step - loss: 0.4101 - accuracy: 0.8289\n",
      "Epoch 36/100\n",
      "1800/1800 [==============================] - 0s 25us/step - loss: 0.4164 - accuracy: 0.8200\n",
      "Epoch 37/100\n",
      "1800/1800 [==============================] - 0s 26us/step - loss: 0.4012 - accuracy: 0.8450\n",
      "Epoch 38/100\n",
      "1800/1800 [==============================] - 0s 25us/step - loss: 0.3958 - accuracy: 0.8400\n",
      "Epoch 39/100\n",
      "1800/1800 [==============================] - 0s 25us/step - loss: 0.3839 - accuracy: 0.8350\n",
      "Epoch 40/100\n",
      "1800/1800 [==============================] - 0s 28us/step - loss: 0.3766 - accuracy: 0.8506\n",
      "Epoch 41/100\n",
      "1800/1800 [==============================] - 0s 27us/step - loss: 0.3688 - accuracy: 0.8611\n",
      "Epoch 42/100\n",
      "1800/1800 [==============================] - 0s 29us/step - loss: 0.3644 - accuracy: 0.8517\n",
      "Epoch 43/100\n",
      "1800/1800 [==============================] - 0s 24us/step - loss: 0.3540 - accuracy: 0.8494\n",
      "Epoch 44/100\n",
      "1800/1800 [==============================] - 0s 31us/step - loss: 0.3489 - accuracy: 0.8522\n",
      "Epoch 45/100\n",
      "1800/1800 [==============================] - 0s 30us/step - loss: 0.3316 - accuracy: 0.8683\n",
      "Epoch 46/100\n",
      "1800/1800 [==============================] - 0s 26us/step - loss: 0.3274 - accuracy: 0.8661\n",
      "Epoch 47/100\n",
      "1800/1800 [==============================] - 0s 25us/step - loss: 0.3445 - accuracy: 0.8539\n",
      "Epoch 48/100\n",
      "1800/1800 [==============================] - 0s 25us/step - loss: 0.3369 - accuracy: 0.8544\n",
      "Epoch 49/100\n",
      "1800/1800 [==============================] - 0s 27us/step - loss: 0.3350 - accuracy: 0.8544\n",
      "Epoch 50/100\n",
      "1800/1800 [==============================] - 0s 28us/step - loss: 0.3229 - accuracy: 0.8639\n",
      "Epoch 51/100\n",
      "1800/1800 [==============================] - 0s 28us/step - loss: 0.3090 - accuracy: 0.8761\n",
      "Epoch 52/100\n",
      "1800/1800 [==============================] - 0s 29us/step - loss: 0.3046 - accuracy: 0.8761\n",
      "Epoch 53/100\n",
      "1800/1800 [==============================] - 0s 25us/step - loss: 0.2949 - accuracy: 0.8789\n",
      "Epoch 54/100\n",
      "1800/1800 [==============================] - 0s 27us/step - loss: 0.3139 - accuracy: 0.8694\n",
      "Epoch 55/100\n",
      "1800/1800 [==============================] - 0s 22us/step - loss: 0.2708 - accuracy: 0.8950\n",
      "Epoch 56/100\n",
      "1800/1800 [==============================] - 0s 29us/step - loss: 0.2844 - accuracy: 0.8800\n",
      "Epoch 57/100\n",
      "1800/1800 [==============================] - 0s 24us/step - loss: 0.2766 - accuracy: 0.8867\n",
      "Epoch 58/100\n",
      "1800/1800 [==============================] - 0s 25us/step - loss: 0.2714 - accuracy: 0.8839\n",
      "Epoch 59/100\n",
      "1800/1800 [==============================] - 0s 24us/step - loss: 0.2792 - accuracy: 0.8783\n",
      "Epoch 60/100\n",
      "1800/1800 [==============================] - 0s 23us/step - loss: 0.2655 - accuracy: 0.8844\n",
      "Epoch 61/100\n",
      "1800/1800 [==============================] - 0s 23us/step - loss: 0.2561 - accuracy: 0.8878\n",
      "Epoch 62/100\n",
      "1800/1800 [==============================] - 0s 23us/step - loss: 0.2703 - accuracy: 0.8861\n",
      "Epoch 63/100\n",
      "1800/1800 [==============================] - 0s 22us/step - loss: 0.2587 - accuracy: 0.8967\n",
      "Epoch 64/100\n",
      "1800/1800 [==============================] - 0s 39us/step - loss: 0.2624 - accuracy: 0.8906\n",
      "Epoch 65/100\n",
      "1800/1800 [==============================] - 0s 23us/step - loss: 0.2496 - accuracy: 0.9028\n",
      "Epoch 66/100\n",
      "1800/1800 [==============================] - 0s 21us/step - loss: 0.2414 - accuracy: 0.9061\n",
      "Epoch 67/100\n",
      "1800/1800 [==============================] - 0s 29us/step - loss: 0.2580 - accuracy: 0.8872\n",
      "Epoch 68/100\n",
      "1800/1800 [==============================] - 0s 28us/step - loss: 0.2358 - accuracy: 0.9100\n",
      "Epoch 69/100\n",
      "1800/1800 [==============================] - 0s 33us/step - loss: 0.2515 - accuracy: 0.8883\n",
      "Epoch 70/100\n",
      "1800/1800 [==============================] - 0s 32us/step - loss: 0.2447 - accuracy: 0.9006\n",
      "Epoch 71/100\n",
      "1800/1800 [==============================] - 0s 25us/step - loss: 0.2402 - accuracy: 0.8978\n",
      "Epoch 72/100\n",
      "1800/1800 [==============================] - 0s 21us/step - loss: 0.2368 - accuracy: 0.9072\n",
      "Epoch 73/100\n",
      "1800/1800 [==============================] - 0s 27us/step - loss: 0.2183 - accuracy: 0.9111\n",
      "Epoch 74/100\n",
      "1800/1800 [==============================] - 0s 24us/step - loss: 0.2334 - accuracy: 0.9017\n",
      "Epoch 75/100\n",
      "1800/1800 [==============================] - 0s 24us/step - loss: 0.2415 - accuracy: 0.9056\n",
      "Epoch 76/100\n",
      "1800/1800 [==============================] - 0s 24us/step - loss: 0.2280 - accuracy: 0.9028\n",
      "Epoch 77/100\n",
      "1800/1800 [==============================] - 0s 23us/step - loss: 0.2281 - accuracy: 0.9011\n",
      "Epoch 78/100\n",
      "1800/1800 [==============================] - 0s 24us/step - loss: 0.2214 - accuracy: 0.9172\n",
      "Epoch 79/100\n"
     ]
    },
    {
     "name": "stdout",
     "output_type": "stream",
     "text": [
      "1800/1800 [==============================] - 0s 24us/step - loss: 0.2245 - accuracy: 0.9061\n",
      "Epoch 80/100\n",
      "1800/1800 [==============================] - 0s 24us/step - loss: 0.2149 - accuracy: 0.9106\n",
      "Epoch 81/100\n",
      "1800/1800 [==============================] - 0s 23us/step - loss: 0.2006 - accuracy: 0.9239\n",
      "Epoch 82/100\n",
      "1800/1800 [==============================] - 0s 24us/step - loss: 0.2115 - accuracy: 0.9117\n",
      "Epoch 83/100\n",
      "1800/1800 [==============================] - 0s 22us/step - loss: 0.2145 - accuracy: 0.9139\n",
      "Epoch 84/100\n",
      "1800/1800 [==============================] - 0s 24us/step - loss: 0.2027 - accuracy: 0.9256\n",
      "Epoch 85/100\n",
      "1800/1800 [==============================] - 0s 23us/step - loss: 0.2229 - accuracy: 0.9106\n",
      "Epoch 86/100\n",
      "1800/1800 [==============================] - 0s 24us/step - loss: 0.2077 - accuracy: 0.9078\n",
      "Epoch 87/100\n",
      "1800/1800 [==============================] - 0s 24us/step - loss: 0.1911 - accuracy: 0.9211\n",
      "Epoch 88/100\n",
      "1800/1800 [==============================] - 0s 22us/step - loss: 0.1977 - accuracy: 0.9206\n",
      "Epoch 89/100\n",
      "1800/1800 [==============================] - 0s 23us/step - loss: 0.1930 - accuracy: 0.9306\n",
      "Epoch 90/100\n",
      "1800/1800 [==============================] - 0s 22us/step - loss: 0.1851 - accuracy: 0.9239\n",
      "Epoch 91/100\n",
      "1800/1800 [==============================] - 0s 24us/step - loss: 0.1972 - accuracy: 0.9233\n",
      "Epoch 92/100\n",
      "1800/1800 [==============================] - 0s 23us/step - loss: 0.1948 - accuracy: 0.9244\n",
      "Epoch 93/100\n",
      "1800/1800 [==============================] - 0s 21us/step - loss: 0.1774 - accuracy: 0.9256\n",
      "Epoch 94/100\n",
      "1800/1800 [==============================] - 0s 23us/step - loss: 0.1921 - accuracy: 0.9267\n",
      "Epoch 95/100\n",
      "1800/1800 [==============================] - 0s 22us/step - loss: 0.1786 - accuracy: 0.9267\n",
      "Epoch 96/100\n",
      "1800/1800 [==============================] - 0s 21us/step - loss: 0.1891 - accuracy: 0.9267\n",
      "Epoch 97/100\n",
      "1800/1800 [==============================] - 0s 24us/step - loss: 0.1865 - accuracy: 0.9267\n",
      "Epoch 98/100\n",
      "1800/1800 [==============================] - 0s 24us/step - loss: 0.1762 - accuracy: 0.9267\n",
      "Epoch 99/100\n",
      "1800/1800 [==============================] - 0s 23us/step - loss: 0.1847 - accuracy: 0.9278\n",
      "Epoch 100/100\n",
      "1800/1800 [==============================] - 0s 23us/step - loss: 0.1804 - accuracy: 0.9228\n"
     ]
    }
   ],
   "source": [
    "history = model.fit(X_train, y_train, epochs=100, batch_size=64)"
   ]
  },
  {
   "cell_type": "code",
   "execution_count": 50,
   "metadata": {},
   "outputs": [],
   "source": [
    "y_pred = model.predict(X_test)\n",
    "#Converting predictions to label\n",
    "pred = list()\n",
    "for i in range(len(y_pred)):\n",
    "    pred.append(np.argmax(y_pred[i]))\n",
    "#Converting one hot encoded test label to label\n",
    "test = list()\n",
    "for i in range(len(y_test)):\n",
    "    test.append(np.argmax(y_test[i]))"
   ]
  },
  {
   "cell_type": "code",
   "execution_count": 51,
   "metadata": {},
   "outputs": [
    {
     "name": "stdout",
     "output_type": "stream",
     "text": [
      "Accuracy is: 96.0\n"
     ]
    }
   ],
   "source": [
    "from sklearn.metrics import accuracy_score\n",
    "a = accuracy_score(pred,test)\n",
    "print('Accuracy is:', a*100)"
   ]
  },
  {
   "cell_type": "code",
   "execution_count": 52,
   "metadata": {
    "scrolled": true
   },
   "outputs": [
    {
     "name": "stdout",
     "output_type": "stream",
     "text": [
      "Train on 1800 samples, validate on 200 samples\n",
      "Epoch 1/100\n",
      "1800/1800 [==============================] - 0s 44us/step - loss: 0.1751 - accuracy: 0.9317 - val_loss: 0.1392 - val_accuracy: 0.9550\n",
      "Epoch 2/100\n",
      "1800/1800 [==============================] - 0s 29us/step - loss: 0.1694 - accuracy: 0.9322 - val_loss: 0.1395 - val_accuracy: 0.9500\n",
      "Epoch 3/100\n",
      "1800/1800 [==============================] - 0s 27us/step - loss: 0.1733 - accuracy: 0.9328 - val_loss: 0.1415 - val_accuracy: 0.9600\n",
      "Epoch 4/100\n",
      "1800/1800 [==============================] - 0s 38us/step - loss: 0.1551 - accuracy: 0.9406 - val_loss: 0.1364 - val_accuracy: 0.9600\n",
      "Epoch 5/100\n",
      "1800/1800 [==============================] - 0s 38us/step - loss: 0.1604 - accuracy: 0.9361 - val_loss: 0.1333 - val_accuracy: 0.9500\n",
      "Epoch 6/100\n",
      "1800/1800 [==============================] - 0s 35us/step - loss: 0.1741 - accuracy: 0.9283 - val_loss: 0.1326 - val_accuracy: 0.9550\n",
      "Epoch 7/100\n",
      "1800/1800 [==============================] - 0s 28us/step - loss: 0.1577 - accuracy: 0.9406 - val_loss: 0.1308 - val_accuracy: 0.9400\n",
      "Epoch 8/100\n",
      "1800/1800 [==============================] - 0s 29us/step - loss: 0.1674 - accuracy: 0.9328 - val_loss: 0.1291 - val_accuracy: 0.9550\n",
      "Epoch 9/100\n",
      "1800/1800 [==============================] - 0s 26us/step - loss: 0.1693 - accuracy: 0.9361 - val_loss: 0.1180 - val_accuracy: 0.9550\n",
      "Epoch 10/100\n",
      "1800/1800 [==============================] - 0s 29us/step - loss: 0.1658 - accuracy: 0.9328 - val_loss: 0.1286 - val_accuracy: 0.9500\n",
      "Epoch 11/100\n",
      "1800/1800 [==============================] - 0s 25us/step - loss: 0.1607 - accuracy: 0.9406 - val_loss: 0.1245 - val_accuracy: 0.9550\n",
      "Epoch 12/100\n",
      "1800/1800 [==============================] - 0s 24us/step - loss: 0.1608 - accuracy: 0.9350 - val_loss: 0.1232 - val_accuracy: 0.9550\n",
      "Epoch 13/100\n",
      "1800/1800 [==============================] - 0s 23us/step - loss: 0.1646 - accuracy: 0.9400 - val_loss: 0.1262 - val_accuracy: 0.9500\n",
      "Epoch 14/100\n",
      "1800/1800 [==============================] - 0s 25us/step - loss: 0.1622 - accuracy: 0.9367 - val_loss: 0.1347 - val_accuracy: 0.9450\n",
      "Epoch 15/100\n",
      "1800/1800 [==============================] - 0s 26us/step - loss: 0.1464 - accuracy: 0.9417 - val_loss: 0.1231 - val_accuracy: 0.9550\n",
      "Epoch 16/100\n",
      "1800/1800 [==============================] - 0s 27us/step - loss: 0.1497 - accuracy: 0.9372 - val_loss: 0.1270 - val_accuracy: 0.9500\n",
      "Epoch 17/100\n",
      "1800/1800 [==============================] - 0s 25us/step - loss: 0.1438 - accuracy: 0.9472 - val_loss: 0.1279 - val_accuracy: 0.9500\n",
      "Epoch 18/100\n",
      "1800/1800 [==============================] - 0s 31us/step - loss: 0.1456 - accuracy: 0.9428 - val_loss: 0.1188 - val_accuracy: 0.9550\n",
      "Epoch 19/100\n",
      "1800/1800 [==============================] - 0s 26us/step - loss: 0.1493 - accuracy: 0.9400 - val_loss: 0.1229 - val_accuracy: 0.9600\n",
      "Epoch 20/100\n",
      "1800/1800 [==============================] - 0s 26us/step - loss: 0.1529 - accuracy: 0.9433 - val_loss: 0.1184 - val_accuracy: 0.9550\n",
      "Epoch 21/100\n",
      "1800/1800 [==============================] - 0s 26us/step - loss: 0.1502 - accuracy: 0.9383 - val_loss: 0.1147 - val_accuracy: 0.9600\n",
      "Epoch 22/100\n",
      "1800/1800 [==============================] - 0s 29us/step - loss: 0.1441 - accuracy: 0.9444 - val_loss: 0.1235 - val_accuracy: 0.9550\n",
      "Epoch 23/100\n",
      "1800/1800 [==============================] - 0s 26us/step - loss: 0.1423 - accuracy: 0.9450 - val_loss: 0.1357 - val_accuracy: 0.9450\n",
      "Epoch 24/100\n",
      "1800/1800 [==============================] - 0s 26us/step - loss: 0.1458 - accuracy: 0.9472 - val_loss: 0.1309 - val_accuracy: 0.9550\n",
      "Epoch 25/100\n",
      "1800/1800 [==============================] - 0s 32us/step - loss: 0.1415 - accuracy: 0.9511 - val_loss: 0.1175 - val_accuracy: 0.9650\n",
      "Epoch 26/100\n",
      "1800/1800 [==============================] - 0s 25us/step - loss: 0.1368 - accuracy: 0.9456 - val_loss: 0.1156 - val_accuracy: 0.9700\n",
      "Epoch 27/100\n",
      "1800/1800 [==============================] - 0s 29us/step - loss: 0.1354 - accuracy: 0.9467 - val_loss: 0.1149 - val_accuracy: 0.9700\n",
      "Epoch 28/100\n",
      "1800/1800 [==============================] - 0s 50us/step - loss: 0.1298 - accuracy: 0.9544 - val_loss: 0.1089 - val_accuracy: 0.9700\n",
      "Epoch 29/100\n",
      "1800/1800 [==============================] - 0s 47us/step - loss: 0.1369 - accuracy: 0.9433 - val_loss: 0.1245 - val_accuracy: 0.9450\n",
      "Epoch 30/100\n",
      "1800/1800 [==============================] - 0s 40us/step - loss: 0.1302 - accuracy: 0.9517 - val_loss: 0.1098 - val_accuracy: 0.9600\n",
      "Epoch 31/100\n",
      "1800/1800 [==============================] - 0s 40us/step - loss: 0.1213 - accuracy: 0.9600 - val_loss: 0.1089 - val_accuracy: 0.9650\n",
      "Epoch 32/100\n",
      "1800/1800 [==============================] - 0s 42us/step - loss: 0.1342 - accuracy: 0.9444 - val_loss: 0.1133 - val_accuracy: 0.9650\n",
      "Epoch 33/100\n",
      "1800/1800 [==============================] - 0s 40us/step - loss: 0.1385 - accuracy: 0.9500 - val_loss: 0.1126 - val_accuracy: 0.9650\n",
      "Epoch 34/100\n",
      "1800/1800 [==============================] - 0s 37us/step - loss: 0.1456 - accuracy: 0.9439 - val_loss: 0.1252 - val_accuracy: 0.9400\n",
      "Epoch 35/100\n",
      "1800/1800 [==============================] - 0s 40us/step - loss: 0.1378 - accuracy: 0.9533 - val_loss: 0.1106 - val_accuracy: 0.9600\n",
      "Epoch 36/100\n",
      "1800/1800 [==============================] - 0s 43us/step - loss: 0.1216 - accuracy: 0.9528 - val_loss: 0.1049 - val_accuracy: 0.9600\n",
      "Epoch 37/100\n",
      "1800/1800 [==============================] - 0s 29us/step - loss: 0.1312 - accuracy: 0.9472 - val_loss: 0.1029 - val_accuracy: 0.9650\n",
      "Epoch 38/100\n",
      "1800/1800 [==============================] - 0s 30us/step - loss: 0.1220 - accuracy: 0.9589 - val_loss: 0.1098 - val_accuracy: 0.9600\n",
      "Epoch 39/100\n",
      "1800/1800 [==============================] - 0s 30us/step - loss: 0.1237 - accuracy: 0.9572 - val_loss: 0.1077 - val_accuracy: 0.9600\n",
      "Epoch 40/100\n",
      "1800/1800 [==============================] - 0s 32us/step - loss: 0.1300 - accuracy: 0.9494 - val_loss: 0.0985 - val_accuracy: 0.9550\n",
      "Epoch 41/100\n",
      "1800/1800 [==============================] - 0s 31us/step - loss: 0.1095 - accuracy: 0.9633 - val_loss: 0.1161 - val_accuracy: 0.9650\n",
      "Epoch 42/100\n",
      "1800/1800 [==============================] - 0s 24us/step - loss: 0.1151 - accuracy: 0.9606 - val_loss: 0.0940 - val_accuracy: 0.9700\n",
      "Epoch 43/100\n",
      "1800/1800 [==============================] - 0s 24us/step - loss: 0.1240 - accuracy: 0.9550 - val_loss: 0.1116 - val_accuracy: 0.9750\n",
      "Epoch 44/100\n",
      "1800/1800 [==============================] - 0s 28us/step - loss: 0.1436 - accuracy: 0.9361 - val_loss: 0.1046 - val_accuracy: 0.9700\n",
      "Epoch 45/100\n",
      "1800/1800 [==============================] - 0s 29us/step - loss: 0.1206 - accuracy: 0.9506 - val_loss: 0.1102 - val_accuracy: 0.9750\n",
      "Epoch 46/100\n",
      "1800/1800 [==============================] - 0s 40us/step - loss: 0.1143 - accuracy: 0.9572 - val_loss: 0.1100 - val_accuracy: 0.9700\n",
      "Epoch 47/100\n",
      "1800/1800 [==============================] - 0s 49us/step - loss: 0.1081 - accuracy: 0.9628 - val_loss: 0.1137 - val_accuracy: 0.9550\n",
      "Epoch 48/100\n",
      "1800/1800 [==============================] - 0s 38us/step - loss: 0.1062 - accuracy: 0.9611 - val_loss: 0.1033 - val_accuracy: 0.9650\n",
      "Epoch 49/100\n",
      "1800/1800 [==============================] - 0s 42us/step - loss: 0.1170 - accuracy: 0.9533 - val_loss: 0.1016 - val_accuracy: 0.9650\n",
      "Epoch 50/100\n",
      "1800/1800 [==============================] - 0s 32us/step - loss: 0.1221 - accuracy: 0.9517 - val_loss: 0.1105 - val_accuracy: 0.9550\n",
      "Epoch 51/100\n",
      "1800/1800 [==============================] - 0s 42us/step - loss: 0.1272 - accuracy: 0.9506 - val_loss: 0.1048 - val_accuracy: 0.9550\n",
      "Epoch 52/100\n",
      "1800/1800 [==============================] - 0s 38us/step - loss: 0.1174 - accuracy: 0.9494 - val_loss: 0.1137 - val_accuracy: 0.9550\n",
      "Epoch 53/100\n",
      "1800/1800 [==============================] - 0s 37us/step - loss: 0.1115 - accuracy: 0.9611 - val_loss: 0.1000 - val_accuracy: 0.9600\n",
      "Epoch 54/100\n",
      "1800/1800 [==============================] - 0s 35us/step - loss: 0.1096 - accuracy: 0.9561 - val_loss: 0.1115 - val_accuracy: 0.9550\n",
      "Epoch 55/100\n",
      "1800/1800 [==============================] - 0s 40us/step - loss: 0.1112 - accuracy: 0.9589 - val_loss: 0.1019 - val_accuracy: 0.9600\n",
      "Epoch 56/100\n"
     ]
    },
    {
     "name": "stdout",
     "output_type": "stream",
     "text": [
      "1800/1800 [==============================] - 0s 38us/step - loss: 0.0959 - accuracy: 0.9639 - val_loss: 0.1014 - val_accuracy: 0.9650\n",
      "Epoch 57/100\n",
      "1800/1800 [==============================] - 0s 38us/step - loss: 0.1146 - accuracy: 0.9594 - val_loss: 0.1108 - val_accuracy: 0.9600\n",
      "Epoch 58/100\n",
      "1800/1800 [==============================] - 0s 31us/step - loss: 0.1053 - accuracy: 0.9583 - val_loss: 0.1046 - val_accuracy: 0.9550\n",
      "Epoch 59/100\n",
      "1800/1800 [==============================] - 0s 27us/step - loss: 0.1219 - accuracy: 0.9522 - val_loss: 0.1508 - val_accuracy: 0.9350\n",
      "Epoch 60/100\n",
      "1800/1800 [==============================] - 0s 27us/step - loss: 0.1135 - accuracy: 0.9550 - val_loss: 0.0970 - val_accuracy: 0.9600\n",
      "Epoch 61/100\n",
      "1800/1800 [==============================] - 0s 26us/step - loss: 0.1203 - accuracy: 0.9539 - val_loss: 0.1116 - val_accuracy: 0.9600\n",
      "Epoch 62/100\n",
      "1800/1800 [==============================] - 0s 30us/step - loss: 0.1059 - accuracy: 0.9622 - val_loss: 0.1182 - val_accuracy: 0.9600\n",
      "Epoch 63/100\n",
      "1800/1800 [==============================] - 0s 31us/step - loss: 0.1200 - accuracy: 0.9567 - val_loss: 0.1001 - val_accuracy: 0.9600\n",
      "Epoch 64/100\n",
      "1800/1800 [==============================] - 0s 29us/step - loss: 0.1116 - accuracy: 0.9600 - val_loss: 0.1079 - val_accuracy: 0.9600\n",
      "Epoch 65/100\n",
      "1800/1800 [==============================] - 0s 36us/step - loss: 0.1054 - accuracy: 0.9600 - val_loss: 0.1178 - val_accuracy: 0.9550\n",
      "Epoch 66/100\n",
      "1800/1800 [==============================] - 0s 38us/step - loss: 0.1059 - accuracy: 0.9617 - val_loss: 0.1071 - val_accuracy: 0.9500\n",
      "Epoch 67/100\n",
      "1800/1800 [==============================] - 0s 37us/step - loss: 0.1041 - accuracy: 0.9644 - val_loss: 0.1061 - val_accuracy: 0.9550\n",
      "Epoch 68/100\n",
      "1800/1800 [==============================] - 0s 38us/step - loss: 0.1018 - accuracy: 0.9656 - val_loss: 0.1046 - val_accuracy: 0.9550\n",
      "Epoch 69/100\n",
      "1800/1800 [==============================] - 0s 38us/step - loss: 0.0959 - accuracy: 0.9667 - val_loss: 0.1043 - val_accuracy: 0.9600\n",
      "Epoch 70/100\n",
      "1800/1800 [==============================] - 0s 39us/step - loss: 0.0906 - accuracy: 0.9717 - val_loss: 0.0988 - val_accuracy: 0.9600\n",
      "Epoch 71/100\n",
      "1800/1800 [==============================] - 0s 37us/step - loss: 0.0919 - accuracy: 0.9667 - val_loss: 0.1015 - val_accuracy: 0.9650\n",
      "Epoch 72/100\n",
      "1800/1800 [==============================] - 0s 32us/step - loss: 0.1050 - accuracy: 0.9667 - val_loss: 0.1241 - val_accuracy: 0.9500\n",
      "Epoch 73/100\n",
      "1800/1800 [==============================] - 0s 27us/step - loss: 0.0948 - accuracy: 0.9622 - val_loss: 0.1119 - val_accuracy: 0.9550\n",
      "Epoch 74/100\n",
      "1800/1800 [==============================] - 0s 26us/step - loss: 0.0990 - accuracy: 0.9639 - val_loss: 0.1053 - val_accuracy: 0.9650\n",
      "Epoch 75/100\n",
      "1800/1800 [==============================] - 0s 38us/step - loss: 0.1127 - accuracy: 0.9567 - val_loss: 0.1071 - val_accuracy: 0.9500\n",
      "Epoch 76/100\n",
      "1800/1800 [==============================] - 0s 38us/step - loss: 0.0965 - accuracy: 0.9633 - val_loss: 0.1034 - val_accuracy: 0.9550\n",
      "Epoch 77/100\n",
      "1800/1800 [==============================] - 0s 34us/step - loss: 0.0979 - accuracy: 0.9667 - val_loss: 0.1068 - val_accuracy: 0.9550\n",
      "Epoch 78/100\n",
      "1800/1800 [==============================] - 0s 31us/step - loss: 0.0899 - accuracy: 0.9700 - val_loss: 0.1019 - val_accuracy: 0.9600\n",
      "Epoch 79/100\n",
      "1800/1800 [==============================] - 0s 29us/step - loss: 0.1102 - accuracy: 0.9578 - val_loss: 0.1202 - val_accuracy: 0.9550\n",
      "Epoch 80/100\n",
      "1800/1800 [==============================] - 0s 29us/step - loss: 0.0891 - accuracy: 0.9683 - val_loss: 0.1163 - val_accuracy: 0.9650\n",
      "Epoch 81/100\n",
      "1800/1800 [==============================] - 0s 28us/step - loss: 0.0894 - accuracy: 0.9644 - val_loss: 0.1090 - val_accuracy: 0.9550\n",
      "Epoch 82/100\n",
      "1800/1800 [==============================] - 0s 30us/step - loss: 0.1014 - accuracy: 0.9622 - val_loss: 0.1115 - val_accuracy: 0.9700\n",
      "Epoch 83/100\n",
      "1800/1800 [==============================] - 0s 35us/step - loss: 0.0971 - accuracy: 0.9689 - val_loss: 0.1114 - val_accuracy: 0.9650\n",
      "Epoch 84/100\n",
      "1800/1800 [==============================] - 0s 36us/step - loss: 0.0924 - accuracy: 0.9672 - val_loss: 0.1178 - val_accuracy: 0.9650\n",
      "Epoch 85/100\n",
      "1800/1800 [==============================] - 0s 32us/step - loss: 0.0938 - accuracy: 0.9650 - val_loss: 0.1217 - val_accuracy: 0.9500\n",
      "Epoch 86/100\n",
      "1800/1800 [==============================] - 0s 37us/step - loss: 0.0932 - accuracy: 0.9644 - val_loss: 0.1234 - val_accuracy: 0.9600\n",
      "Epoch 87/100\n",
      "1800/1800 [==============================] - 0s 37us/step - loss: 0.0979 - accuracy: 0.9661 - val_loss: 0.1192 - val_accuracy: 0.9650\n",
      "Epoch 88/100\n",
      "1800/1800 [==============================] - 0s 43us/step - loss: 0.0979 - accuracy: 0.9661 - val_loss: 0.1346 - val_accuracy: 0.9550\n",
      "Epoch 89/100\n",
      "1800/1800 [==============================] - 0s 38us/step - loss: 0.0941 - accuracy: 0.9650 - val_loss: 0.1139 - val_accuracy: 0.9650\n",
      "Epoch 90/100\n",
      "1800/1800 [==============================] - 0s 36us/step - loss: 0.0905 - accuracy: 0.9644 - val_loss: 0.1243 - val_accuracy: 0.9600\n",
      "Epoch 91/100\n",
      "1800/1800 [==============================] - 0s 40us/step - loss: 0.0886 - accuracy: 0.9722 - val_loss: 0.1150 - val_accuracy: 0.9700\n",
      "Epoch 92/100\n",
      "1800/1800 [==============================] - 0s 34us/step - loss: 0.0915 - accuracy: 0.9622 - val_loss: 0.1293 - val_accuracy: 0.9600\n",
      "Epoch 93/100\n",
      "1800/1800 [==============================] - 0s 29us/step - loss: 0.0976 - accuracy: 0.9617 - val_loss: 0.1007 - val_accuracy: 0.9600\n",
      "Epoch 94/100\n",
      "1800/1800 [==============================] - 0s 30us/step - loss: 0.0902 - accuracy: 0.9667 - val_loss: 0.1184 - val_accuracy: 0.9650\n",
      "Epoch 95/100\n",
      "1800/1800 [==============================] - 0s 26us/step - loss: 0.0921 - accuracy: 0.9689 - val_loss: 0.1092 - val_accuracy: 0.9700\n",
      "Epoch 96/100\n",
      "1800/1800 [==============================] - 0s 25us/step - loss: 0.1050 - accuracy: 0.9606 - val_loss: 0.1268 - val_accuracy: 0.9650\n",
      "Epoch 97/100\n",
      "1800/1800 [==============================] - 0s 26us/step - loss: 0.0854 - accuracy: 0.9706 - val_loss: 0.1150 - val_accuracy: 0.9550\n",
      "Epoch 98/100\n",
      "1800/1800 [==============================] - 0s 29us/step - loss: 0.0850 - accuracy: 0.9728 - val_loss: 0.0979 - val_accuracy: 0.9700\n",
      "Epoch 99/100\n",
      "1800/1800 [==============================] - 0s 26us/step - loss: 0.0882 - accuracy: 0.9678 - val_loss: 0.1078 - val_accuracy: 0.9650\n",
      "Epoch 100/100\n",
      "1800/1800 [==============================] - 0s 31us/step - loss: 0.0932 - accuracy: 0.9656 - val_loss: 0.1123 - val_accuracy: 0.9700\n"
     ]
    }
   ],
   "source": [
    "history = model.fit(X_train, y_train,validation_data = (X_test,y_test), epochs=100, batch_size=64)"
   ]
  },
  {
   "cell_type": "code",
   "execution_count": 53,
   "metadata": {},
   "outputs": [],
   "source": [
    "import matplotlib.pyplot as plt"
   ]
  },
  {
   "cell_type": "code",
   "execution_count": 54,
   "metadata": {},
   "outputs": [
    {
     "data": {
      "text/plain": [
       "dict_keys(['val_loss', 'val_accuracy', 'loss', 'accuracy'])"
      ]
     },
     "execution_count": 54,
     "metadata": {},
     "output_type": "execute_result"
    }
   ],
   "source": [
    "history.history.keys()"
   ]
  },
  {
   "cell_type": "code",
   "execution_count": 55,
   "metadata": {},
   "outputs": [
    {
     "data": {
      "image/png": "[encoded data removed]",
      "text/plain": [
       "<Figure size 432x288 with 1 Axes>"
      ]
     },
     "metadata": {
      "needs_background": "light"
     },
     "output_type": "display_data"
    }
   ],
   "source": [
    "plt.plot(history.history['accuracy'])\n",
    "plt.plot(history.history['val_accuracy'])\n",
    "plt.title('Model accuracy')\n",
    "plt.ylabel('Accuracy')\n",
    "plt.xlabel('Epoch')\n",
    "plt.legend(['Train', 'Test'], loc='best')\n",
    "plt.show()"
   ]
  },
  {
   "cell_type": "code",
   "execution_count": 56,
   "metadata": {},
   "outputs": [
    {
     "data": {
      "image/png": "[encoded data removed]",
      "text/plain": [
       "<Figure size 432x288 with 1 Axes>"
      ]
     },
     "metadata": {
      "needs_background": "light"
     },
     "output_type": "display_data"
    }
   ],
   "source": [
    "plt.plot(history.history['loss'])\n",
    "plt.plot(history.history['val_loss']) \n",
    "plt.title('Model loss') \n",
    "plt.ylabel('Loss') \n",
    "plt.xlabel('Epoch') \n",
    "plt.legend(['Train', 'Test'])\n",
    "plt.show()"
   ]
  },
  {
   "cell_type": "code",
   "execution_count": null,
   "metadata": {},
   "outputs": [],
   "source": []
  }
 ],
 "metadata": {
  "kernelspec": {
   "display_name": "Python 3",
   "language": "python",
   "name": "python3"
  },
  "language_info": {
   "codemirror_mode": {
    "name": "ipython",
    "version": 3
   },
   "file_extension": ".py",
   "mimetype": "text/x-python",
   "name": "python",
   "nbconvert_exporter": "python",
   "pygments_lexer": "ipython3",
   "version": "3.7.6"
  }
 },
 "nbformat": 4,
 "nbformat_minor": 4
}
